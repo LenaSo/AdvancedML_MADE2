{
 "cells": [
  {
   "cell_type": "code",
   "execution_count": 1,
   "metadata": {},
   "outputs": [],
   "source": [
    "import pickle\n",
    "\n",
    "DATA_DIR = \"/media/elena/13e9efd4-799d-4087-8d03-b4e8eea4a3cc/MADE_DATA/2sem/AdvancedML/chgk/\"\n",
    "\n",
    "def read_pkl(filename):\n",
    "    with open(filename, 'rb') as f:\n",
    "        data = pickle.load(f)\n",
    "    return data"
   ]
  },
  {
   "cell_type": "code",
   "execution_count": 2,
   "metadata": {},
   "outputs": [
    {
     "data": {
      "text/plain": [
       "204063"
      ]
     },
     "execution_count": 2,
     "metadata": {},
     "output_type": "execute_result"
    }
   ],
   "source": [
    "players = read_pkl(DATA_DIR + 'players.pkl')\n",
    "len(players)"
   ]
  },
  {
   "cell_type": "code",
   "execution_count": 3,
   "metadata": {},
   "outputs": [
    {
     "data": {
      "text/plain": [
       "[(1, {'id': 1, 'name': 'Алексей', 'patronymic': None, 'surname': 'Абабилов'}),\n",
       " (10, {'id': 10, 'name': 'Игорь', 'patronymic': '', 'surname': 'Абалов'}),\n",
       " (11,\n",
       "  {'id': 11,\n",
       "   'name': 'Наталья',\n",
       "   'patronymic': 'Юрьевна',\n",
       "   'surname': 'Абалымова'})]"
      ]
     },
     "execution_count": 3,
     "metadata": {},
     "output_type": "execute_result"
    }
   ],
   "source": [
    "list(players.items())[:3]"
   ]
  },
  {
   "cell_type": "code",
   "execution_count": 4,
   "metadata": {},
   "outputs": [
    {
     "data": {
      "text/plain": [
       "(5528, '2003-07-25T00:00:00+04:00')"
      ]
     },
     "execution_count": 4,
     "metadata": {},
     "output_type": "execute_result"
    }
   ],
   "source": [
    "tournaments = read_pkl(DATA_DIR + 'tournaments.pkl')\n",
    "len(tournaments), tournaments[1]['dateStart']"
   ]
  },
  {
   "cell_type": "code",
   "execution_count": 5,
   "metadata": {},
   "outputs": [],
   "source": [
    "def tourn_ids(year=2019):\n",
    "    return [ tourn['id']\n",
    "             for key, tourn in tournaments.items()\n",
    "             if int(tourn['dateStart'][:4]) == year ]\n",
    "        "
   ]
  },
  {
   "cell_type": "code",
   "execution_count": 6,
   "metadata": {},
   "outputs": [
    {
     "data": {
      "text/plain": [
       "(687, 418)"
      ]
     },
     "execution_count": 6,
     "metadata": {},
     "output_type": "execute_result"
    }
   ],
   "source": [
    "tourn_2019 = tourn_ids(year=2019)\n",
    "tourn_2020 = tourn_ids(year=2020)\n",
    "len(tourn_2019), len(tourn_2020)"
   ]
  },
  {
   "cell_type": "code",
   "execution_count": 7,
   "metadata": {},
   "outputs": [],
   "source": [
    "del tournaments"
   ]
  },
  {
   "cell_type": "code",
   "execution_count": 8,
   "metadata": {},
   "outputs": [
    {
     "data": {
      "text/plain": [
       "(5528, None)"
      ]
     },
     "execution_count": 8,
     "metadata": {},
     "output_type": "execute_result"
    }
   ],
   "source": [
    "results = read_pkl(DATA_DIR + 'results.pkl')\n",
    "len(results), results[1][0]['mask']"
   ]
  },
  {
   "cell_type": "code",
   "execution_count": 9,
   "metadata": {},
   "outputs": [],
   "source": [
    "def tourn_has_mask(tourn_ids):\n",
    "    return [t_id \n",
    "            for t_id in tourn_ids \n",
    "            if (results[t_id] and \n",
    "                'mask' in results[t_id][0] and\n",
    "                results[t_id][0]['mask'] and\n",
    "                results[t_id][0]['position'] and\n",
    "                results[t_id][0]['teamMembers'])\n",
    "           ]"
   ]
  },
  {
   "cell_type": "code",
   "execution_count": 10,
   "metadata": {},
   "outputs": [
    {
     "data": {
      "text/plain": [
       "(674, 173)"
      ]
     },
     "execution_count": 10,
     "metadata": {},
     "output_type": "execute_result"
    }
   ],
   "source": [
    "tourn_2019 = tourn_has_mask(tourn_2019)\n",
    "tourn_2020 = tourn_has_mask(tourn_2020)\n",
    "len(tourn_2019), len(tourn_2020)"
   ]
  },
  {
   "cell_type": "code",
   "execution_count": 11,
   "metadata": {},
   "outputs": [],
   "source": [
    "def tourn_result(tourn_ids):\n",
    "    out = []\n",
    "    for tourn_id in tourn_ids:\n",
    "        team_list = []\n",
    "        for res in results[tourn_id]:\n",
    "            team_list.append({\n",
    "                'mask':res['mask'],\n",
    "                'position':res['position'],\n",
    "                'team_name':res['team']['name'],\n",
    "                'questionsTotal':res['questionsTotal'],\n",
    "                'players_ids':[player['player']['id'] \n",
    "                               for player in res['teamMembers']],\n",
    "            })\n",
    "        out.append((tourn_id, team_list))\n",
    "    return out"
   ]
  },
  {
   "cell_type": "code",
   "execution_count": 12,
   "metadata": {},
   "outputs": [],
   "source": [
    "# result_2019 = tourn_result(tourn_2019)\n",
    "# len(result_2019), len(tourn_2019)"
   ]
  },
  {
   "cell_type": "code",
   "execution_count": 13,
   "metadata": {},
   "outputs": [],
   "source": [
    "def write_pkl(filename, var):\n",
    "    with open(filename, 'wb') as fout:\n",
    "        pickle.dump(var, fout)"
   ]
  },
  {
   "cell_type": "code",
   "execution_count": 14,
   "metadata": {},
   "outputs": [],
   "source": [
    "write_pkl(DATA_DIR + 'results2019.pkl', tourn_result(tourn_2019))\n",
    "write_pkl(DATA_DIR + 'results2020.pkl', tourn_result(tourn_2020))"
   ]
  },
  {
   "cell_type": "code",
   "execution_count": null,
   "metadata": {},
   "outputs": [],
   "source": []
  }
 ],
 "metadata": {
  "kernelspec": {
   "display_name": "Python 3",
   "language": "python",
   "name": "python3"
  },
  "language_info": {
   "codemirror_mode": {
    "name": "ipython",
    "version": 3
   },
   "file_extension": ".py",
   "mimetype": "text/x-python",
   "name": "python",
   "nbconvert_exporter": "python",
   "pygments_lexer": "ipython3",
   "version": "3.8.5"
  }
 },
 "nbformat": 4,
 "nbformat_minor": 4
}
