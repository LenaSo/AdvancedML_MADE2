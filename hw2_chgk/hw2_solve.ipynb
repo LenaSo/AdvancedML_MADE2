{
 "cells": [
  {
   "cell_type": "code",
   "execution_count": 1,
   "id": "d7dc1aeb-3ffb-4df7-880f-1eedc0f78124",
   "metadata": {},
   "outputs": [],
   "source": [
    "import pandas as pd\n",
    "import numpy as np\n",
    "import pickle\n",
    "from scipy.stats import spearmanr, kendalltau\n",
    "from scipy.sparse import csr_matrix, lil_matrix, hstack, save_npz, load_npz\n",
    "from sklearn import linear_model\n",
    "import matplotlib.pyplot as plt\n",
    "from scipy import stats\n",
    "from collections import defaultdict\n",
    "\n",
    "from utils import logit, sigmoid, spearman_kendall\n",
    "\n",
    "import multiprocessing\n",
    "\n",
    "DATA_DIR = \"/media/elena/13e9efd4-799d-4087-8d03-b4e8eea4a3cc/MADE_DATA/2sem/AdvancedML/chgk/\""
   ]
  },
  {
   "cell_type": "code",
   "execution_count": 2,
   "id": "99a09f3f-00e8-4705-9648-2b30204c1031",
   "metadata": {},
   "outputs": [
    {
     "data": {
      "text/plain": [
       "12"
      ]
     },
     "execution_count": 2,
     "metadata": {},
     "output_type": "execute_result"
    }
   ],
   "source": [
    "try:\n",
    "    cpu_cnt = multiprocessing.cpu_count()\n",
    "except NotImplementedError:\n",
    "    cpu_cnt = 2   # arbitrary default\n",
    "cpu_cnt"
   ]
  },
  {
   "cell_type": "markdown",
   "id": "b81cb9d3-f593-4327-aaaf-c002d2067646",
   "metadata": {},
   "source": [
    "> 1. Прочитайте и проанализируйте данные, выберите турниры, в которых есть данные о составах команд и повопросных результатах (поле mask в results.pkl). Для унификации предлагаю:\n",
    "        ◦ взять в тренировочный набор турниры с dateStart из 2019 года; \n",
    "        ◦ в тестовый — турниры с dateStart из 2020 года.\n",
    "        \n",
    "Данные проанализированы в retrieve_data.ipynb и сохранены в results2019.pkl и results2020.pkl."
   ]
  },
  {
   "cell_type": "code",
   "execution_count": 3,
   "id": "12cc1bdf-26b5-4f67-bb1e-3a7568fd3d1a",
   "metadata": {},
   "outputs": [
    {
     "data": {
      "text/plain": [
       "(list, 674, 173)"
      ]
     },
     "execution_count": 3,
     "metadata": {},
     "output_type": "execute_result"
    }
   ],
   "source": [
    "with open(DATA_DIR + 'results2019.pkl', 'rb') as f:\n",
    "    train_data = pickle.load(f)\n",
    "with open(DATA_DIR + 'results2020.pkl', 'rb') as f:\n",
    "    test_data = pickle.load(f)\n",
    "type(train_data), len(train_data), len(test_data)"
   ]
  },
  {
   "cell_type": "markdown",
   "id": "cef6a885-7c26-4493-92e2-6bc12f7f0103",
   "metadata": {},
   "source": [
    "Данные представляют собой список кортежей (id турнира, список команд). Каждая команда описывается словарем, содержащим: mask - повопросные результаты команды, position - занятое место, players_ids - список id игроков команды."
   ]
  },
  {
   "cell_type": "code",
   "execution_count": 4,
   "id": "5248a056-c20f-4562-80cc-2bcc316656c1",
   "metadata": {},
   "outputs": [
    {
     "data": {
      "text/plain": [
       "[{'mask': '111111111011111110111111111100010010',\n",
       "  'position': 1,\n",
       "  'team_name': 'Рабочее название',\n",
       "  'questionsTotal': 28,\n",
       "  'players_ids': [6212, 18332, 18036, 22799, 15456, 26089]},\n",
       " {'mask': '111111111011110100101111011001011010',\n",
       "  'position': 5.5,\n",
       "  'team_name': 'Сборная Бутана',\n",
       "  'questionsTotal': 25,\n",
       "  'players_ids': [1585, 40840, 1584, 10998, 16206]},\n",
       " {'mask': '111111111011110101101111001011110000',\n",
       "  'position': 5.5,\n",
       "  'team_name': 'Ять',\n",
       "  'questionsTotal': 25,\n",
       "  'players_ids': [23513, 18168, 21060, 35850, 31332, 10187]}]"
      ]
     },
     "execution_count": 4,
     "metadata": {},
     "output_type": "execute_result"
    }
   ],
   "source": [
    "train_tour_id, train_data = zip(*train_data)\n",
    "test_tour_id, test_data = zip(*test_data)\n",
    "train_data[0][:3]"
   ]
  },
  {
   "cell_type": "markdown",
   "id": "9585658a-08e8-4414-87f6-58b303692bea",
   "metadata": {},
   "source": [
    "\n",
    "Сделаем предобработку результатов команд. А именно, для каждого турнира найдем матрицу результатов: по строкам - команды, по столбцам - вопросы, соответственно каждый элемент матрицы - ответила ли команда на вопрос. Из этой матрицы уберем те команды, которые не ответили ни на один вопрос, а также те вопросы, на которые не отвелила ни одна команда или ответили все команды, т.к. эти данные не влияют на ранжирование команд.\n"
   ]
  },
  {
   "cell_type": "code",
   "execution_count": 5,
   "id": "e35e3283-f4f9-4363-98a8-81b70c1927f4",
   "metadata": {},
   "outputs": [],
   "source": [
    "def tour_preprocess(team_list):\n",
    "    n_team = len(team_list)\n",
    "    n_ques = max(len(team['mask']) for team in team_list if team['mask'])\n",
    "    team_mask = np.zeros((n_team, n_ques))\n",
    "    for i, team in enumerate(team_list):\n",
    "        if team['mask'] and team['players_ids']:\n",
    "            mask = [int(c) if c.isdigit() else 0 for c in team['mask']]\n",
    "            n = len(mask)\n",
    "            team_mask[i,:n] = mask[:n]\n",
    "    team_ans = team_mask.sum(axis=1)\n",
    "    team_idx = np.where(team_ans != 0)[0]\n",
    "    \n",
    "    ques_ans = team_mask.sum(axis=0)\n",
    "    ques_idx = np.where( (ques_ans > 0) & (ques_ans < n_team) )[0]\n",
    "    \n",
    "    team_ans_mtx = team_mask[team_idx,:][:,ques_idx]\n",
    "    team_player_list = [team['players_ids'] for i, team in enumerate(team_list) if i in team_idx]\n",
    "    return team_ans_mtx, team_player_list"
   ]
  },
  {
   "cell_type": "code",
   "execution_count": 6,
   "id": "f082afce-4edd-4c84-9638-03412c331a7d",
   "metadata": {},
   "outputs": [],
   "source": [
    "with multiprocessing.Pool(cpu_cnt) as p:\n",
    "    train_tour_list = p.map(tour_preprocess, train_data)\n",
    "#train_tour_list = [tour_preprocess(team_list) for team_list in train_data.values()]\n",
    "train_tour_list = [(ans_mtx, team_list) \n",
    "                   for ans_mtx, team_list in train_tour_list \n",
    "                   if ans_mtx.size != 0]\n",
    "tour_ans_mtx, tour_team_list = zip(*train_tour_list)\n",
    "del train_tour_list"
   ]
  },
  {
   "cell_type": "markdown",
   "id": "8d158d28-63fe-476e-a9a6-3d0e3ff1523a",
   "metadata": {},
   "source": [
    "Подобьем статистику по тренировачным данным."
   ]
  },
  {
   "cell_type": "code",
   "execution_count": 7,
   "id": "febf4729-c934-45f2-9b63-a1a57668b658",
   "metadata": {},
   "outputs": [
    {
     "name": "stdout",
     "output_type": "stream",
     "text": [
      "train tours: 671\n",
      "train teams: 86098\n",
      "train questions: 30719\n",
      "train players: 58703\n",
      "train player-ques samples: 25030322\n"
     ]
    }
   ],
   "source": [
    "train_team_cnt = 0\n",
    "train_ques_cnt = 0\n",
    "train_player_ques_sample = 0\n",
    "train_player_freq = defaultdict(int)\n",
    "\n",
    "for ans_mtx, team_list in zip(tour_ans_mtx, tour_team_list):\n",
    "    train_team_cnt += ans_mtx.shape[0]\n",
    "    train_ques_cnt += ans_mtx.shape[1]\n",
    "    train_player_ques_sample += ans_mtx.shape[1] * \\\n",
    "                              sum(len(team) for team in team_list)\n",
    "    for team in team_list:\n",
    "        for player in team:\n",
    "            train_player_freq[player] += 1\n",
    "            \n",
    "(train_player, train_player_freq) = zip(*\n",
    "                  sorted(train_player_freq.items(),\n",
    "                  key=lambda x: x[1], reverse=True))\n",
    "train_player = np.array(list(train_player))\n",
    "train_player_freq = np.array(list(train_player_freq))\n",
    "    \n",
    "print(f'train tours: {len(tour_team_list)}')\n",
    "print(f'train teams: {train_team_cnt}')\n",
    "print(f'train questions: {train_ques_cnt}')\n",
    "print(f'train players: {len(train_player)}')\n",
    "print(f'train player-ques samples: {train_player_ques_sample}')"
   ]
  },
  {
   "cell_type": "code",
   "execution_count": 8,
   "id": "75868ebd-99f7-413f-ae2d-c6ab844f8db4",
   "metadata": {},
   "outputs": [],
   "source": [
    "player_to_idx = {\n",
    "    player : i\n",
    "    for i, player in enumerate(train_player)\n",
    "}"
   ]
  },
  {
   "cell_type": "markdown",
   "id": "d88cc681-f4d4-494e-8398-a8700d306e88",
   "metadata": {},
   "source": [
    ">    2. Постройте baseline-модель на основе линейной или логистической регрессии, которая будет обучать рейтинг-лист игроков. Замечания и подсказки:\n",
    "        ◦ повопросные результаты — это фактически результаты броска монетки, и их предсказание скорее всего имеет отношение к бинарной классификации;\n",
    "        ◦ в разных турнирах вопросы совсем разного уровня сложности, поэтому модель должна это учитывать; скорее всего, модель должна будет явно обучать не только силу каждого игрока, но и сложность каждого вопроса;\n",
    "        ◦ для baseline-модели можно забыть о командах и считать, что повопросные результаты команды просто относятся к каждому из её игроков.\n",
    "        \n",
    "Пронумеруем всех игроков и все вопросы. Всего у нас 58703 игрока и 30719 вопросов в тренировочных дынных.\n",
    "\n",
    "Обозначим силу игрока $s_i$, сложность вопроса $v_j$. Тогда можно записать уравнения для логистической регрессии\n",
    "$$\\sigma(s_i + v_j) = r_{ij},$$\n",
    "где $r_{ij}$ - отвелила ли команда с i-м игроком на j-й вопрос.\n",
    "\n",
    "Таких уравнений у нас будет 25030322 - столько пар игрок-вопрос мы насчитали выше. Размерности устрашают, но попробуем задать матрицы и рассчитать."
   ]
  },
  {
   "cell_type": "code",
   "execution_count": 9,
   "id": "17dfe765-9837-4306-9427-81c6d6068fa1",
   "metadata": {},
   "outputs": [],
   "source": [
    "def player_question_encoder():\n",
    "    n_player = len(train_player)\n",
    "    n_sample = train_player_ques_sample\n",
    "    player_mtx = lil_matrix((n_sample, n_player), dtype='uint8')\n",
    "    ques_mtx = lil_matrix((n_sample, train_ques_cnt), dtype='uint8')\n",
    "    y_mtx = lil_matrix((n_sample, 1), dtype='uint8')\n",
    "    \n",
    "    row = 0\n",
    "    ques_cnt = 0\n",
    "    for ans_mtx, team_list in zip(tour_ans_mtx, tour_team_list):\n",
    "        n_ques = ans_mtx.shape[1]\n",
    "        nI = np.eye(n_ques)\n",
    "        for ans, team in zip(ans_mtx, team_list):\n",
    "            for player in team:\n",
    "                player_mtx[row : (row + n_ques), player_to_idx[player]] = 1\n",
    "                y_mtx[row : (row + n_ques)] = ans\n",
    "                ques_mtx[row : (row + n_ques), \n",
    "                         ques_cnt : (ques_cnt + n_ques)] = nI\n",
    "                row += n_ques\n",
    "        ques_cnt += n_ques\n",
    "    print(row, ques_cnt)\n",
    "    return (player_mtx.tocsr(), \n",
    "            ques_mtx.tocsr(),\n",
    "            y_mtx.tocsr(),\n",
    "           )"
   ]
  },
  {
   "cell_type": "code",
   "execution_count": 10,
   "id": "db4d3371-6b42-4a04-a322-c21430d6f80e",
   "metadata": {},
   "outputs": [
    {
     "name": "stdout",
     "output_type": "stream",
     "text": [
      "CPU times: user 1.26 s, sys: 57.1 ms, total: 1.32 s\n",
      "Wall time: 1.32 s\n"
     ]
    }
   ],
   "source": [
    "%%time\n",
    "# player_mtx, ques_mtx, ans_mtx = player_question_encoder()\n",
    "# save_npz(DATA_DIR + 'player_mtx.npz', player_mtx)\n",
    "# save_npz(DATA_DIR + 'ques_mtx.npz',   ques_mtx)\n",
    "# save_npz(DATA_DIR + 'ans_mtx.npz',    ans_mtx)\n",
    "\n",
    "player_mtx = load_npz(DATA_DIR + 'player_mtx.npz')\n",
    "ques_mtx = load_npz(DATA_DIR + 'ques_mtx.npz')\n",
    "ans_mtx = load_npz(DATA_DIR + 'ans_mtx.npz')"
   ]
  },
  {
   "cell_type": "markdown",
   "id": "23dc242d-8b16-4fa9-a18e-ee5bf73d4bc2",
   "metadata": {},
   "source": [
    "Только задать матрицы занимает около 5 мин и больше 10Gb оперативы. Страшно представить как же будет считаться модель)"
   ]
  },
  {
   "cell_type": "code",
   "execution_count": 11,
   "id": "debd40f3-273b-4d82-8f8b-8b2202aa19d9",
   "metadata": {},
   "outputs": [
    {
     "data": {
      "text/plain": [
       "((25030322, 89422), (25030322,))"
      ]
     },
     "execution_count": 11,
     "metadata": {},
     "output_type": "execute_result"
    }
   ],
   "source": [
    "X_train = hstack([player_mtx, ques_mtx])\n",
    "y_train = ans_mtx.toarray().ravel()\n",
    "X_train.shape, y_train.shape"
   ]
  },
  {
   "cell_type": "code",
   "execution_count": 12,
   "id": "8584b59c-3dc2-40d8-a971-9622a91a3a3f",
   "metadata": {},
   "outputs": [
    {
     "name": "stdout",
     "output_type": "stream",
     "text": [
      "CPU times: user 709 µs, sys: 392 µs, total: 1.1 ms\n",
      "Wall time: 484 µs\n"
     ]
    }
   ],
   "source": [
    "%%time\n",
    "# model0 = linear_model.LogisticRegression(C=0.5, solver='liblinear')\n",
    "# model0.fit(X_train, y_train)\n",
    "\n",
    "# with open(DATA_DIR + 'player_ques_LR_model.pkl', 'wb') as fout:\n",
    "#     pickle.dump(model0, fout)\n",
    "      \n",
    "with open(DATA_DIR + 'player_ques_LR_model.pkl', 'rb') as f:\n",
    "    model0 = pickle.load(f)        "
   ]
  },
  {
   "cell_type": "markdown",
   "id": "72cfba4b-6058-4163-9194-c2d2fac6e326",
   "metadata": {},
   "source": [
    "Ура, модель посчиталась за пару минут. Посмотрим, какие оказались силы игроков и их распределение."
   ]
  },
  {
   "cell_type": "code",
   "execution_count": 13,
   "id": "e80c6b99-5e49-4a9c-bfde-831032ba61b0",
   "metadata": {},
   "outputs": [
    {
     "data": {
      "text/plain": [
       "(array([2293., 5835., 6903., 6902., 7798., 7561., 7342., 6863., 5436.,\n",
       "        1770.]),\n",
       " array([0.03328075, 0.12776411, 0.22224746, 0.31673082, 0.41121417,\n",
       "        0.50569753, 0.60018088, 0.69466424, 0.78914759, 0.88363095,\n",
       "        0.9781143 ]),\n",
       " <BarContainer object of 10 artists>)"
      ]
     },
     "execution_count": 13,
     "metadata": {},
     "output_type": "execute_result"
    },
    {
     "data": {
      "image/png": "[encoded data removed]",
      "text/plain": [
       "<Figure size 432x288 with 2 Axes>"
      ]
     },
     "metadata": {
      "needs_background": "light"
     },
     "output_type": "display_data"
    }
   ],
   "source": [
    "model0_player_logit = model0.coef_[0,:len(player_to_idx)]\n",
    "model0_player_prob = sigmoid(model0_player_logit)\n",
    "\n",
    "ax = plt.figure().subplots(1, 2)\n",
    "ax[0].hist(model0_player_logit)\n",
    "ax[1].hist(model0_player_prob)"
   ]
  },
  {
   "cell_type": "markdown",
   "id": "389cf3de-c5dd-4749-a010-f99c294051da",
   "metadata": {},
   "source": [
    "Построим рейтинг игроков и сравним его с официальным рейтингом."
   ]
  },
  {
   "cell_type": "code",
   "execution_count": 14,
   "id": "3be1494d-5906-49ca-a814-65a25f2d1443",
   "metadata": {},
   "outputs": [],
   "source": [
    "with open(DATA_DIR + 'players.pkl', 'rb') as f:\n",
    "    players_names = pickle.load(f)"
   ]
  },
  {
   "cell_type": "code",
   "execution_count": 15,
   "id": "d907bd30-b264-49c9-8c7a-dce0ac015f4d",
   "metadata": {},
   "outputs": [],
   "source": [
    "with open(DATA_DIR + 'players-release-2021-04-09.csv') as f:\n",
    "    player_ofic_rating = [int(row.split(',')[0].strip('\"')) \n",
    "                          for i, row in enumerate(f)\n",
    "                          if i > 0]\n",
    "player_to_ofic_rating = { player_id : i + 1\n",
    "    for i, player_id in enumerate(player_ofic_rating)}   "
   ]
  },
  {
   "cell_type": "code",
   "execution_count": 16,
   "id": "f0cbb4a2-16cc-4cc8-bd1a-63bb77553888",
   "metadata": {},
   "outputs": [],
   "source": [
    "def print_player_rating(player_prob, n=10):\n",
    "    sort_idx = np.argsort(player_prob)[::-1]\n",
    "    top_names = [f\"{i+1, players_names[train_player[idx]]['surname'] if train_player[idx] in players_names else 'no-name'}, \"\n",
    "                 f\"tours: {train_player_freq[idx]}, \"\n",
    "                 f\"ofic rating: {player_to_ofic_rating[train_player[idx]] if train_player[idx] in player_to_ofic_rating else -1}\"\n",
    "                 for i, idx in enumerate(sort_idx[:n])]\n",
    "    print('\\n'.join(top_names))"
   ]
  },
  {
   "cell_type": "code",
   "execution_count": 17,
   "id": "6d64f5c4-ff5a-4aed-862b-ced4f4131e9a",
   "metadata": {},
   "outputs": [
    {
     "name": "stdout",
     "output_type": "stream",
     "text": [
      "(1, 'Вергизаева'), tours: 1, ofic rating: 9101\n",
      "(2, 'Боков'), tours: 11, ofic rating: 78\n",
      "(3, 'Легашов'), tours: 13, ofic rating: 2632\n",
      "(4, 'Пашковский'), tours: 36, ofic rating: 115\n",
      "(5, 'Калгин'), tours: 3, ofic rating: 7258\n",
      "(6, 'Чернин'), tours: 38, ofic rating: 13\n",
      "(7, 'Эйхгольц'), tours: 6, ofic rating: 3127\n",
      "(8, 'Степанов'), tours: 27, ofic rating: 43\n",
      "(9, 'Баранова'), tours: 33, ofic rating: 567\n",
      "(10, 'Руссо'), tours: 59, ofic rating: 5\n",
      "(11, 'Петросянц'), tours: 10, ofic rating: 4271\n",
      "(12, 'Иванцова'), tours: 13, ofic rating: 491\n",
      "(13, 'Кузьменко'), tours: 18, ofic rating: 89\n",
      "(14, 'Белоглазов'), tours: 13, ofic rating: 606\n",
      "(15, 'Сафронов'), tours: 6, ofic rating: 2364\n",
      "(16, 'Васильев'), tours: 44, ofic rating: 519\n",
      "(17, 'Заднепровский'), tours: 4, ofic rating: 3997\n",
      "(18, 'Семушин'), tours: 100, ofic rating: 3\n",
      "(19, 'Непомнящий'), tours: 6, ofic rating: 7227\n",
      "(20, 'Берёзкина'), tours: 74, ofic rating: 120\n"
     ]
    }
   ],
   "source": [
    "print_player_rating(model0_player_prob, 20)"
   ]
  },
  {
   "cell_type": "markdown",
   "id": "135680b1-2a98-4df3-91ce-06cc3f59a3dd",
   "metadata": {},
   "source": [
    "Видно, что полученный рейтинг весьма далек от официального. Рейтинг модели выше у тех, кто сыграл мало турниров."
   ]
  },
  {
   "cell_type": "markdown",
   "id": "bf009f32-a387-407c-b576-0f354dacc8bf",
   "metadata": {},
   "source": [
    ">     3. Качество рейтинг-системы оценивается качеством предсказаний результатов турниров. Но сами повопросные результаты наши модели предсказывать вряд ли смогут, ведь неизвестно, насколько сложными окажутся вопросы в будущих турнирах; да и не нужны эти предсказания сами по себе. Поэтому:\n",
    "        ◦ предложите способ предсказать результаты нового турнира с известными составами, но неизвестными вопросами, в виде ранжирования команд;\n",
    "        ◦ в качестве метрики качества на тестовом наборе давайте считать ранговые корреляции Спирмена и Кендалла (их можно взять в пакете scipy) между реальным ранжированием в результатах турнира и предсказанным моделью, усреднённые по тестовому множеству турниров.\n",
    "        \n",
    "Чтобы расчитать рейтинг команд по силам игроков, можно суммировать силы n сильнейших игроков команды или посчитать вероятность команды ответить на вопрос: $$ P_{team} = 1 - \\Pi_{i=1}^{n} (1 - P(s_i)) $$\n",
    "        \n"
   ]
  },
  {
   "cell_type": "code",
   "execution_count": 18,
   "id": "55bc4ca4-4aa1-47fe-b00d-a0252d74ef64",
   "metadata": {},
   "outputs": [],
   "source": [
    "def team_sum_est(n=3):\n",
    "    def team_sum_n(player_coef, team_list):\n",
    "        y_pred = []\n",
    "        for team in team_list:\n",
    "            player_idxs = [player_to_idx[player] \n",
    "                           for player in team['players_ids']\n",
    "                           if player in player_to_idx]\n",
    "            coefs = np.sort(player_coef[player_idxs])[::-1]\n",
    "            y_pred.append(coefs[:n].sum()\n",
    "                          if player_idxs else -5)\n",
    "        y_pred = np.array(y_pred) \n",
    "        return y_pred\n",
    "    return team_sum_n"
   ]
  },
  {
   "cell_type": "code",
   "execution_count": 19,
   "id": "2dd9ad0c-09a2-4db8-821e-f48a256a49f0",
   "metadata": {},
   "outputs": [],
   "source": [
    "def team_prob_est(n=3):\n",
    "    def team_prob_n(player_prob, team_list):\n",
    "        y_pred = []\n",
    "        for team in team_list:\n",
    "            player_idxs = [player_to_idx[player] \n",
    "                           for player in team['players_ids']\n",
    "                           if player in player_to_idx]\n",
    "            probs = np.sort(player_prob[player_idxs])[::-1]\n",
    "            inv_probs = 1 - probs\n",
    "            y_pred.append(1 - inv_probs[:n].prod()\n",
    "                          if player_idxs else -5)\n",
    "        y_pred = np.array(y_pred) \n",
    "        return y_pred\n",
    "    return team_prob_n"
   ]
  },
  {
   "cell_type": "code",
   "execution_count": 20,
   "id": "a4eedabc-4c69-485f-aa2d-2128692c30d4",
   "metadata": {},
   "outputs": [],
   "source": [
    "def print_metric(player_logit, player_prob, n=6):\n",
    "    print('   sum of logits:')\n",
    "    print('train: ', \n",
    "        spearman_kendall(player_logit, train_data, team_sum_est(n)))\n",
    "    print('test:  ', \n",
    "        spearman_kendall(player_logit, test_data, team_sum_est(n)))\n",
    "    print('   sum of probs:')\n",
    "    print('train: ', \n",
    "        spearman_kendall(player_prob, train_data, team_sum_est(n)))\n",
    "    print('test:  ', \n",
    "        spearman_kendall(player_prob, test_data, team_sum_est(n)))\n",
    "    print('   sum of prob squares:')\n",
    "    print('train: ', \n",
    "        spearman_kendall(player_prob**2, train_data, team_sum_est(n)))\n",
    "    print('test:  ', \n",
    "        spearman_kendall(player_prob**2, test_data, team_sum_est(n)))\n",
    "    print('   team prob:')\n",
    "    print('train: ', \n",
    "        spearman_kendall(player_prob, train_data, team_prob_est(n)))\n",
    "    print('test:  ', \n",
    "        spearman_kendall(player_prob, test_data, team_prob_est(n)))"
   ]
  },
  {
   "cell_type": "code",
   "execution_count": 21,
   "id": "edc49c2e-fba1-4b81-8cb1-51be7479cbc5",
   "metadata": {},
   "outputs": [
    {
     "name": "stdout",
     "output_type": "stream",
     "text": [
      "   sum of logits:\n"
     ]
    },
    {
     "name": "stderr",
     "output_type": "stream",
     "text": [
      "/home/elena/MADE/made_env385/lib/python3.8/site-packages/scipy/stats/stats.py:4264: SpearmanRConstantInputWarning: An input array is constant; the correlation coefficent is not defined.\n",
      "  warnings.warn(SpearmanRConstantInputWarning())\n"
     ]
    },
    {
     "name": "stdout",
     "output_type": "stream",
     "text": [
      "train:  (0.8215928362609666, 0.6687373076020723)\n",
      "test:   (0.769228026999463, 0.6083143677159307)\n",
      "   sum of probs:\n",
      "train:  (0.7329149979591326, 0.5805693538196333)\n",
      "test:   (0.6829998641273144, 0.5297687054076927)\n",
      "   sum of prob squares:\n",
      "train:  (0.7928233138140955, 0.639097462197701)\n",
      "test:   (0.744115643930757, 0.5848889492536895)\n",
      "   team prob:\n",
      "train:  (0.8014512742644991, 0.6468689194727668)\n",
      "test:   (0.7554638007932312, 0.5961946310795543)\n"
     ]
    }
   ],
   "source": [
    "print_metric(model0_player_logit, model0_player_prob, n=6)"
   ]
  },
  {
   "cell_type": "markdown",
   "id": "897de843-e060-4eb2-9f58-931aa48c0e83",
   "metadata": {},
   "source": [
    "Слишком сложная получилась модель для бейзлайна. Попробуем ее упростить и посмотреть, как изменится точность.\n",
    "\n",
    "Для этого посчитаем сначала ретинги команд в каждом турнире. Используем ту же модель: сигма(сила команды + сложность вопроса) = вероятность команды ответить на вопрос. Такие модели построим для каждого турнира."
   ]
  },
  {
   "cell_type": "code",
   "execution_count": 22,
   "id": "e9111faf-f6fa-439d-86a3-dc42b4e23b2b",
   "metadata": {},
   "outputs": [],
   "source": [
    "def tour_team_prob(team_ans_mtx):\n",
    "    n_team, n_ques = team_ans_mtx.shape\n",
    "    n_sample = n_team * n_ques\n",
    "    team_mtx = lil_matrix((n_sample, n_team), dtype='uint8')\n",
    "    ques_mtx = lil_matrix((n_sample, n_ques), dtype='uint8')\n",
    "    team_ans = np.zeros(n_sample, dtype='uint8')\n",
    "    row = 0\n",
    "    for it in range(n_team):\n",
    "        team_mtx[row : row + n_ques, it] = 1\n",
    "        ques_mtx[row : row + n_ques] = np.eye(n_ques)\n",
    "        team_ans[row : row + n_ques] = team_ans_mtx[it, :]\n",
    "        row += n_ques\n",
    "        \n",
    "    X_train = hstack([team_mtx, ques_mtx]).tocsr()\n",
    "    y_train = team_ans\n",
    "    \n",
    "    model = linear_model.LogisticRegression(C=100, solver='liblinear')\n",
    "    model.fit(X_train, y_train)\n",
    "\n",
    "    team_logit = model.coef_[0,:n_team]\n",
    "    team_prob = sigmoid(team_logit)\n",
    "    \n",
    "    team_ratio = team_ans_mtx.sum(axis=1) / n_ques\n",
    "    return team_prob, team_ratio"
   ]
  },
  {
   "cell_type": "markdown",
   "id": "89e7e3bf-1b78-4701-888d-ba0dce2d9276",
   "metadata": {},
   "source": [
    "Посмотрим, как работает модель для отдельного турнира. Сравним вероятности модели с долей правильных ответов."
   ]
  },
  {
   "cell_type": "code",
   "execution_count": 23,
   "id": "592fde33-3b08-4e70-99a9-00cb4c62807a",
   "metadata": {},
   "outputs": [
    {
     "name": "stdout",
     "output_type": "stream",
     "text": [
      "(967,) (967,)\n"
     ]
    },
    {
     "data": {
      "text/plain": [
       "[<matplotlib.lines.Line2D at 0x7f1afd3ed6d0>]"
      ]
     },
     "execution_count": 23,
     "metadata": {},
     "output_type": "execute_result"
    },
    {
     "data": {
      "image/png": "[encoded data removed]",
      "text/plain": [
       "<Figure size 432x288 with 1 Axes>"
      ]
     },
     "metadata": {
      "needs_background": "light"
     },
     "output_type": "display_data"
    }
   ],
   "source": [
    "team_prob, team_ratio = tour_team_prob(tour_ans_mtx[3])\n",
    "\n",
    "print(team_prob.shape, team_ratio.shape)\n",
    "\n",
    "plt.figure()\n",
    "plt.plot(team_ratio, 'k.')\n",
    "plt.plot(team_prob, 'r.')"
   ]
  },
  {
   "cell_type": "code",
   "execution_count": 24,
   "id": "385c46a0-75a8-4916-9da9-82009a263ddd",
   "metadata": {},
   "outputs": [
    {
     "name": "stdout",
     "output_type": "stream",
     "text": [
      "CPU times: user 281 ms, sys: 160 ms, total: 441 ms\n",
      "Wall time: 13.3 s\n"
     ]
    }
   ],
   "source": [
    "%%time\n",
    "with multiprocessing.Pool(cpu_cnt) as p:\n",
    "    tour_ans_prob, _ = zip(*p.map(tour_team_prob, tour_ans_mtx))\n",
    "#tour_ans_prob = [tour_team_prob(team_ans)[0] for team_ans in tour_ans_mtx]\n",
    "\n",
    "for team_ans in tour_ans_prob:\n",
    "    team_ans[team_ans < 0.001] = 0.001\n",
    "    team_ans[team_ans > 0.999] = 0.999    "
   ]
  },
  {
   "cell_type": "code",
   "execution_count": 25,
   "id": "155d51f4-104e-4465-be46-c5c2df83d55c",
   "metadata": {},
   "outputs": [
    {
     "data": {
      "text/plain": [
       "671"
      ]
     },
     "execution_count": 25,
     "metadata": {},
     "output_type": "execute_result"
    }
   ],
   "source": [
    "len(tour_ans_prob)"
   ]
  },
  {
   "cell_type": "markdown",
   "id": "6fafe03a-6a4c-4fc1-b54b-9775301d9fe0",
   "metadata": {},
   "source": [
    "671 модель просчиталась довольно быстро. Теперь, зная вероятности команд в каждом турнире, построим линейную модель для каждого игрока:\n",
    "сигма(сила игрока + сложность турнира) = вероятность команды ответить."
   ]
  },
  {
   "cell_type": "code",
   "execution_count": 26,
   "id": "55257f3c-95dc-41c5-85ce-9c302ca6e8e4",
   "metadata": {},
   "outputs": [],
   "source": [
    "def player_tour_encoder(tour_team_list, tour_ans_prob, player_to_idx):\n",
    "    n_player = len(player_to_idx)\n",
    "    n_tour = len(tour_team_list)\n",
    "    n_sample = sum(len(team)\n",
    "                   for team_list in tour_team_list\n",
    "                   for team in team_list)\n",
    "    \n",
    "    player_mtx = lil_matrix((n_sample, n_player), dtype='uint8')\n",
    "    tour_mtx = lil_matrix((n_sample, n_tour), dtype='uint8')\n",
    "    team_prob_arr = np.zeros(n_sample, dtype='float')\n",
    "    \n",
    "    row = 0\n",
    "    for i_tour, (team_list, team_ans) in enumerate(zip(tour_team_list, tour_ans_prob)):\n",
    "        for team, ans in zip(team_list, team_ans):\n",
    "            team_size = len(team)\n",
    "            team_prob_arr[row : row + team_size] = ans\n",
    "            tour_mtx[row : row + team_size, i_tour] = 1\n",
    "            for ip, player in enumerate(team):\n",
    "                player_mtx[row + ip, player_to_idx[player]] = 1\n",
    "            row += team_size\n",
    "            \n",
    "    return (player_mtx.tocsr(), \n",
    "            tour_mtx.tocsr(),\n",
    "            team_prob_arr,\n",
    "           )    "
   ]
  },
  {
   "cell_type": "code",
   "execution_count": 27,
   "id": "3fdf7cd0-5890-4902-a56f-a1481725f42e",
   "metadata": {},
   "outputs": [
    {
     "name": "stdout",
     "output_type": "stream",
     "text": [
      "CPU times: user 8.16 s, sys: 197 ms, total: 8.36 s\n",
      "Wall time: 8.26 s\n"
     ]
    },
    {
     "data": {
      "text/plain": [
       "((450304, 58703), (450304, 671), (450304,))"
      ]
     },
     "execution_count": 27,
     "metadata": {},
     "output_type": "execute_result"
    }
   ],
   "source": [
    "%%time\n",
    "player_mtx, tour_mtx, team_prob_arr = player_tour_encoder(tour_team_list, tour_ans_prob, player_to_idx)\n",
    "player_mtx.shape, tour_mtx.shape, team_prob_arr.shape"
   ]
  },
  {
   "cell_type": "code",
   "execution_count": 28,
   "id": "c27d6ed2-0134-4920-a6f0-f076ff80ca48",
   "metadata": {},
   "outputs": [],
   "source": [
    "X_train = hstack([player_mtx, tour_mtx])\n",
    "y_train = logit(team_prob_arr)"
   ]
  },
  {
   "cell_type": "code",
   "execution_count": 29,
   "id": "62c89f43-c122-4b80-a35b-c24f6154861e",
   "metadata": {},
   "outputs": [
    {
     "data": {
      "text/plain": [
       "(array([3058., 5978., 6323., 6374., 7079., 7223., 7136., 6974., 5980.,\n",
       "        2578.]),\n",
       " array([0.01474273, 0.1119351 , 0.20912747, 0.30631985, 0.40351222,\n",
       "        0.5007046 , 0.59789697, 0.69508935, 0.79228172, 0.8894741 ,\n",
       "        0.98666647]),\n",
       " <BarContainer object of 10 artists>)"
      ]
     },
     "execution_count": 29,
     "metadata": {},
     "output_type": "execute_result"
    },
    {
     "data": {
      "image/png": "[encoded data removed]",
      "text/plain": [
       "<Figure size 432x288 with 2 Axes>"
      ]
     },
     "metadata": {
      "needs_background": "light"
     },
     "output_type": "display_data"
    }
   ],
   "source": [
    "model = linear_model.Ridge(alpha=0.3)\n",
    "model.fit(X_train, y_train)\n",
    "player_logit = model.coef_[:len(player_to_idx)]\n",
    "player_prob = sigmoid(player_logit)\n",
    "\n",
    "ax = plt.figure().subplots(1, 2)\n",
    "ax[0].hist(player_logit)\n",
    "ax[1].hist(player_prob)"
   ]
  },
  {
   "cell_type": "code",
   "execution_count": 30,
   "id": "41f9eba0-d6c1-4cbd-a20c-d5f47cffa14a",
   "metadata": {},
   "outputs": [
    {
     "name": "stdout",
     "output_type": "stream",
     "text": [
      "(1, 'Руссо'), tours: 59, ofic rating: 5\n",
      "(2, 'Семушин'), tours: 100, ofic rating: 3\n",
      "(3, 'Брутер'), tours: 72, ofic rating: 6\n",
      "(4, 'Савченков'), tours: 85, ofic rating: 2\n",
      "(5, 'Спешков'), tours: 93, ofic rating: 4\n",
      "(6, 'Сорожкин'), tours: 130, ofic rating: 1\n",
      "(7, 'Чернин'), tours: 38, ofic rating: 13\n",
      "(8, 'Мереминский'), tours: 39, ofic rating: 38\n",
      "(9, 'Саксонов'), tours: 33, ofic rating: 158\n",
      "(10, 'Николенко'), tours: 50, ofic rating: 10\n",
      "(11, 'Пашковский'), tours: 36, ofic rating: 115\n",
      "(12, 'Левандовский'), tours: 34, ofic rating: 8\n",
      "(13, 'Прокофьева'), tours: 27, ofic rating: 65\n",
      "(14, 'Либер'), tours: 95, ofic rating: 7\n",
      "(15, 'Коврижных'), tours: 71, ofic rating: 104\n",
      "(16, 'Степанов'), tours: 27, ofic rating: 43\n",
      "(17, 'Гилёв'), tours: 115, ofic rating: 30\n",
      "(18, 'Вергизаева'), tours: 1, ofic rating: 9101\n",
      "(19, 'Новиков'), tours: 35, ofic rating: 132\n",
      "(20, 'Горелова'), tours: 52, ofic rating: 349\n"
     ]
    }
   ],
   "source": [
    "print_player_rating(player_prob, 20)"
   ]
  },
  {
   "cell_type": "markdown",
   "id": "de704fbe-dc1c-4e4e-a7a6-5bce8de5f001",
   "metadata": {},
   "source": [
    "Рейтинг игроков намного ближе к официальному. Однако он сильно зависит от регуляризации - коэффициента альфа. Если регуляризации нет"
   ]
  },
  {
   "cell_type": "code",
   "execution_count": 31,
   "id": "eb2e72cd-02f5-4d6c-abda-d528af113272",
   "metadata": {},
   "outputs": [
    {
     "name": "stdout",
     "output_type": "stream",
     "text": [
      "(1, 'Вергизаева'), tours: 1, ofic rating: 9101\n",
      "(2, 'Руссо'), tours: 59, ofic rating: 5\n",
      "(3, 'Семушин'), tours: 100, ofic rating: 3\n",
      "(4, 'Брутер'), tours: 72, ofic rating: 6\n",
      "(5, 'Кудинов'), tours: 1, ofic rating: -1\n",
      "(6, 'Савченков'), tours: 85, ofic rating: 2\n",
      "(7, 'Спешков'), tours: 93, ofic rating: 4\n",
      "(8, 'Резникова'), tours: 3, ofic rating: 5828\n",
      "(9, 'Сорожкин'), tours: 130, ofic rating: 1\n",
      "(10, 'Калгин'), tours: 3, ofic rating: 7258\n",
      "(11, 'Людикайнен'), tours: 4, ofic rating: 3445\n",
      "(12, 'Пилипенко'), tours: 1, ofic rating: 9969\n",
      "(13, 'Чернин'), tours: 38, ofic rating: 13\n",
      "(14, 'Мереминский'), tours: 39, ofic rating: 38\n",
      "(15, 'Саксонов'), tours: 33, ofic rating: 158\n",
      "(16, 'Пашковский'), tours: 36, ofic rating: 115\n",
      "(17, 'Николенко'), tours: 50, ofic rating: 10\n",
      "(18, 'Левандовский'), tours: 34, ofic rating: 8\n",
      "(19, 'Эйхгольц'), tours: 6, ofic rating: 3127\n",
      "(20, 'Подюкова'), tours: 1, ofic rating: -1\n"
     ]
    }
   ],
   "source": [
    "model = linear_model.Ridge(alpha=0)\n",
    "model.fit(X_train, y_train)\n",
    "player_logit = model.coef_[:len(player_to_idx)]\n",
    "player_prob = sigmoid(player_logit)\n",
    "print_player_rating(player_prob, 20)"
   ]
  },
  {
   "cell_type": "markdown",
   "id": "d03cbc8d-0ad2-44bf-b4b4-d2964b5a64b4",
   "metadata": {},
   "source": [
    "Получаем опять в топе людей, которые сыграли всего несколько турниров.\n",
    "Посмотрим на метрики для команд:"
   ]
  },
  {
   "cell_type": "code",
   "execution_count": 32,
   "id": "ff2da693-7256-4ae4-90e6-8a73a942a95b",
   "metadata": {},
   "outputs": [
    {
     "name": "stdout",
     "output_type": "stream",
     "text": [
      "   sum of logits:\n"
     ]
    },
    {
     "name": "stderr",
     "output_type": "stream",
     "text": [
      "/home/elena/MADE/made_env385/lib/python3.8/site-packages/scipy/stats/stats.py:4264: SpearmanRConstantInputWarning: An input array is constant; the correlation coefficent is not defined.\n",
      "  warnings.warn(SpearmanRConstantInputWarning())\n"
     ]
    },
    {
     "name": "stdout",
     "output_type": "stream",
     "text": [
      "train:  (0.8400283373840852, 0.6919592330285232)\n",
      "test:   (0.7854787095799937, 0.628348955067075)\n",
      "   sum of probs:\n",
      "train:  (0.739603760304034, 0.5936668563690845)\n",
      "test:   (0.6990851552832064, 0.5457856581398907)\n",
      "   sum of prob squares:\n",
      "train:  (0.7983845393392828, 0.6488181921065181)\n",
      "test:   (0.751558782536371, 0.5944791942053183)\n",
      "   team prob:\n",
      "train:  (0.8276507747757493, 0.6779880908867557)\n",
      "test:   (0.7820748236807341, 0.625906843114901)\n"
     ]
    }
   ],
   "source": [
    "print_metric(player_logit, player_prob, 6)"
   ]
  },
  {
   "cell_type": "markdown",
   "id": "e918793c-3789-4c94-b97f-d072b577a17b",
   "metadata": {},
   "source": [
    "Метрики тоже улучшились. Странно, то ли действительно более простая модель лучше описывает данные, либо в сложной модели баг.."
   ]
  },
  {
   "cell_type": "markdown",
   "id": "19206eeb-db13-43f4-b79f-49812059be01",
   "metadata": {},
   "source": [
    ">     4. Теперь главное: ЧГК — это всё-таки командная игра. Поэтому:\n",
    "        ◦ предложите способ учитывать то, что на вопрос отвечают сразу несколько игроков; скорее всего, понадобятся скрытые переменные; не стесняйтесь делать упрощающие предположения, но теперь переменные “игрок X ответил на вопрос Y” при условии данных должны стать зависимыми для игроков одной и той же команды;\n",
    "        ◦ разработайте EM-схему для обучения этой модели, реализуйте её в коде;\n",
    "        ◦ обучите несколько итераций, убедитесь, что целевые метрики со временем растут (скорее всего, ненамного, но расти должны), выберите лучшую модель, используя целевые метрики.\n",
    "        \n",
    "Текущая модель: сигма(сила игрока + сложность турнира) = вероятность команды ответить. Видно, что правая часть не соответствует левой: мы приписываем результат всей команды каждому ее игроку.\n",
    "Введем скрытые переменные - то, что должно быть в правой части модели. А именно - вероятность игрока ответить в данном турнире. \n",
    "\n",
    "ЕМ-схема будет работать следующим образом: Е-шаг: считаем левую часть по имеющейся модели, т.е. предсказываем правую. Корректируем посчитанные значения исходя из командных вероятностей. М-шаг: просчитываем модель по откорректированным правым вероятностям."
   ]
  },
  {
   "cell_type": "code",
   "execution_count": 33,
   "id": "69ed6241-8d82-473c-8c23-30d2dbda19ca",
   "metadata": {},
   "outputs": [],
   "source": [
    "def E_step(model):\n",
    "    y_pred_logit = model.predict(X_train)\n",
    "    y_pred_prob = sigmoid(y_pred_logit)\n",
    "    \n",
    "    player_tour_prob = np.zeros_like(y_train)\n",
    "\n",
    "    row = 0\n",
    "    for team_list, tour_ans in zip(tour_team_list, tour_ans_prob):\n",
    "        for team, team_ans in zip(team_list, tour_ans):\n",
    "            team_size = len(team)\n",
    "            player_prob = y_pred_prob[row : row + team_size]\n",
    "            team_prob = 1 - (1 - player_prob).prod()\n",
    "            \n",
    "            assert player_tour_prob[row : row + team_size].sum() == 0\n",
    "            player_tour_prob[row : row + team_size] = player_prob / team_prob * team_ans\n",
    "            row += team_size \n",
    "    return player_tour_prob\n",
    "\n",
    "def M_step(player_tour_prob):\n",
    "    model = linear_model.Ridge(alpha=0.3)\n",
    "    model.fit(X_train, logit(player_tour_prob))\n",
    "    return model"
   ]
  },
  {
   "cell_type": "code",
   "execution_count": 34,
   "id": "21c817d4-2490-401d-ac7a-d554e56a22d7",
   "metadata": {},
   "outputs": [
    {
     "name": "stdout",
     "output_type": "stream",
     "text": [
      "step: 0\n"
     ]
    },
    {
     "name": "stderr",
     "output_type": "stream",
     "text": [
      "/home/elena/MADE/made_env385/lib/python3.8/site-packages/scipy/stats/stats.py:4264: SpearmanRConstantInputWarning: An input array is constant; the correlation coefficent is not defined.\n",
      "  warnings.warn(SpearmanRConstantInputWarning())\n"
     ]
    },
    {
     "name": "stdout",
     "output_type": "stream",
     "text": [
      "   train:  (0.8263204386784653, 0.6754066278063081)\n",
      "   test:  (0.7802092491088617, 0.6228164247006643)\n",
      "step: 1\n"
     ]
    },
    {
     "name": "stderr",
     "output_type": "stream",
     "text": [
      "/home/elena/MADE/made_env385/lib/python3.8/site-packages/scipy/stats/stats.py:4264: SpearmanRConstantInputWarning: An input array is constant; the correlation coefficent is not defined.\n",
      "  warnings.warn(SpearmanRConstantInputWarning())\n"
     ]
    },
    {
     "name": "stdout",
     "output_type": "stream",
     "text": [
      "   train:  (0.8338179948160693, 0.6839396047228168)\n",
      "   test:  (0.7855281893684491, 0.6278172250519467)\n",
      "step: 2\n"
     ]
    },
    {
     "name": "stderr",
     "output_type": "stream",
     "text": [
      "/home/elena/MADE/made_env385/lib/python3.8/site-packages/scipy/stats/stats.py:4264: SpearmanRConstantInputWarning: An input array is constant; the correlation coefficent is not defined.\n",
      "  warnings.warn(SpearmanRConstantInputWarning())\n"
     ]
    },
    {
     "name": "stdout",
     "output_type": "stream",
     "text": [
      "   train:  (0.8407499290433922, 0.6930005102357226)\n",
      "   test:  (0.7878807557106874, 0.6305146343735927)\n",
      "step: 3\n"
     ]
    },
    {
     "name": "stderr",
     "output_type": "stream",
     "text": [
      "/home/elena/MADE/made_env385/lib/python3.8/site-packages/scipy/stats/stats.py:4264: SpearmanRConstantInputWarning: An input array is constant; the correlation coefficent is not defined.\n",
      "  warnings.warn(SpearmanRConstantInputWarning())\n"
     ]
    },
    {
     "name": "stdout",
     "output_type": "stream",
     "text": [
      "   train:  (0.8460721723599965, 0.6997390951831052)\n",
      "   test:  (0.7880840994109902, 0.6296532572963103)\n",
      "step: 4\n"
     ]
    },
    {
     "name": "stderr",
     "output_type": "stream",
     "text": [
      "/home/elena/MADE/made_env385/lib/python3.8/site-packages/scipy/stats/stats.py:4264: SpearmanRConstantInputWarning: An input array is constant; the correlation coefficent is not defined.\n",
      "  warnings.warn(SpearmanRConstantInputWarning())\n"
     ]
    },
    {
     "name": "stdout",
     "output_type": "stream",
     "text": [
      "   train:  (0.8485440256927441, 0.7028472417670132)\n",
      "   test:  (0.7842293954391943, 0.6261788538128326)\n",
      "step: 5\n"
     ]
    },
    {
     "name": "stderr",
     "output_type": "stream",
     "text": [
      "/home/elena/MADE/made_env385/lib/python3.8/site-packages/scipy/stats/stats.py:4264: SpearmanRConstantInputWarning: An input array is constant; the correlation coefficent is not defined.\n",
      "  warnings.warn(SpearmanRConstantInputWarning())\n"
     ]
    },
    {
     "name": "stdout",
     "output_type": "stream",
     "text": [
      "   train:  (0.8493746438397548, 0.7042801357462569)\n",
      "   test:  (0.7822819981924434, 0.6244773461703178)\n",
      "step: 6\n"
     ]
    },
    {
     "name": "stderr",
     "output_type": "stream",
     "text": [
      "/home/elena/MADE/made_env385/lib/python3.8/site-packages/scipy/stats/stats.py:4264: SpearmanRConstantInputWarning: An input array is constant; the correlation coefficent is not defined.\n",
      "  warnings.warn(SpearmanRConstantInputWarning())\n"
     ]
    },
    {
     "name": "stdout",
     "output_type": "stream",
     "text": [
      "   train:  (0.8502724228515144, 0.7054798314581779)\n",
      "   test:  (0.7803628261297736, 0.6226645903364476)\n",
      "step: 7\n"
     ]
    },
    {
     "name": "stderr",
     "output_type": "stream",
     "text": [
      "/home/elena/MADE/made_env385/lib/python3.8/site-packages/scipy/stats/stats.py:4264: SpearmanRConstantInputWarning: An input array is constant; the correlation coefficent is not defined.\n",
      "  warnings.warn(SpearmanRConstantInputWarning())\n"
     ]
    },
    {
     "name": "stdout",
     "output_type": "stream",
     "text": [
      "   train:  (0.8510376473327773, 0.7064115565718321)\n",
      "   test:  (0.7787782222629236, 0.6208165866319906)\n",
      "step: 8\n"
     ]
    },
    {
     "name": "stderr",
     "output_type": "stream",
     "text": [
      "/home/elena/MADE/made_env385/lib/python3.8/site-packages/scipy/stats/stats.py:4264: SpearmanRConstantInputWarning: An input array is constant; the correlation coefficent is not defined.\n",
      "  warnings.warn(SpearmanRConstantInputWarning())\n"
     ]
    },
    {
     "name": "stdout",
     "output_type": "stream",
     "text": [
      "   train:  (0.8519069404912044, 0.7074203601902658)\n",
      "   test:  (0.777903490064944, 0.6197998225425108)\n",
      "step: 9\n"
     ]
    },
    {
     "name": "stderr",
     "output_type": "stream",
     "text": [
      "/home/elena/MADE/made_env385/lib/python3.8/site-packages/scipy/stats/stats.py:4264: SpearmanRConstantInputWarning: An input array is constant; the correlation coefficent is not defined.\n",
      "  warnings.warn(SpearmanRConstantInputWarning())\n"
     ]
    },
    {
     "name": "stdout",
     "output_type": "stream",
     "text": [
      "   train:  (0.8525633409617248, 0.7079217305323885)\n",
      "   test:  (0.7776997393352278, 0.6196219912093337)\n"
     ]
    }
   ],
   "source": [
    "model = linear_model.Ridge(alpha=0.3)\n",
    "model.fit(X_train, y_train)\n",
    "\n",
    "for i in range(10):\n",
    "    player_logit = model.coef_[:len(player_to_idx)]\n",
    "    player_prob = sigmoid(player_logit)\n",
    "\n",
    "    print(f'step: {i}')\n",
    "    print('   train: ', \n",
    "        spearman_kendall(player_prob, train_data, team_prob_est(6)))\n",
    "    print('   test: ', \n",
    "        spearman_kendall(player_prob, test_data, team_prob_est(6)))\n",
    "\n",
    "    player_tour_prob = E_step(model)\n",
    "    model = M_step(player_tour_prob)"
   ]
  },
  {
   "cell_type": "markdown",
   "id": "1d71aa6b-288f-4b7f-879b-f01dc07b0042",
   "metadata": {},
   "source": [
    "Из результатов итераций видно, что на тренировочных данных метрики улучшаются с каждым шагом. А на тестовых метрики увеличиваются только после первых двух итераций. Выберем лучшую тестовую модель: "
   ]
  },
  {
   "cell_type": "code",
   "execution_count": 35,
   "id": "14ec5496-0204-48a1-921d-f85e13bc113b",
   "metadata": {},
   "outputs": [
    {
     "name": "stderr",
     "output_type": "stream",
     "text": [
      "/home/elena/MADE/made_env385/lib/python3.8/site-packages/scipy/stats/stats.py:4264: SpearmanRConstantInputWarning: An input array is constant; the correlation coefficent is not defined.\n",
      "  warnings.warn(SpearmanRConstantInputWarning())\n"
     ]
    },
    {
     "name": "stdout",
     "output_type": "stream",
     "text": [
      "   train:  (0.8407499290433922, 0.6930005102357226)\n",
      "   test:  (0.7878807557106874, 0.6305146343735927)\n"
     ]
    }
   ],
   "source": [
    "model = linear_model.Ridge(alpha=0.3)\n",
    "model.fit(X_train, y_train)\n",
    "for i in range(2):\n",
    "    player_tour_prob = E_step(model)\n",
    "    model = M_step(player_tour_prob)\n",
    "    \n",
    "player_logit = model.coef_[:len(player_to_idx)]\n",
    "player_prob = sigmoid(player_logit)\n",
    "\n",
    "print('   train: ', \n",
    "    spearman_kendall(player_prob, train_data, team_prob_est(6)))\n",
    "print('   test: ', \n",
    "    spearman_kendall(player_prob, test_data, team_prob_est(6)))"
   ]
  },
  {
   "cell_type": "code",
   "execution_count": 36,
   "id": "e7f2776c-b040-4592-b07a-04da9b27bdda",
   "metadata": {},
   "outputs": [
    {
     "data": {
      "text/plain": [
       "(array([2914., 5686., 6534., 6686., 7376., 7522., 7128., 6381., 5478.,\n",
       "        2998.]),\n",
       " array([0.00805226, 0.10644527, 0.20483828, 0.30323128, 0.40162429,\n",
       "        0.5000173 , 0.59841031, 0.69680332, 0.79519633, 0.89358933,\n",
       "        0.99198234]),\n",
       " <BarContainer object of 10 artists>)"
      ]
     },
     "execution_count": 36,
     "metadata": {},
     "output_type": "execute_result"
    },
    {
     "data": {
      "image/png": "[encoded data removed]",
      "text/plain": [
       "<Figure size 432x288 with 2 Axes>"
      ]
     },
     "metadata": {
      "needs_background": "light"
     },
     "output_type": "display_data"
    }
   ],
   "source": [
    "ax = plt.figure().subplots(1, 2)\n",
    "ax[0].hist(player_logit)\n",
    "ax[1].hist(player_prob)"
   ]
  },
  {
   "cell_type": "code",
   "execution_count": 37,
   "id": "5092bad6-b524-41e0-a863-865f05e845c2",
   "metadata": {},
   "outputs": [
    {
     "name": "stdout",
     "output_type": "stream",
     "text": [
      "(1, 'Руссо'), tours: 59, ofic rating: 5\n",
      "(2, 'Семушин'), tours: 100, ofic rating: 3\n",
      "(3, 'Брутер'), tours: 72, ofic rating: 6\n",
      "(4, 'Савченков'), tours: 85, ofic rating: 2\n",
      "(5, 'Спешков'), tours: 93, ofic rating: 4\n",
      "(6, 'Сорожкин'), tours: 130, ofic rating: 1\n",
      "(7, 'Чернин'), tours: 38, ofic rating: 13\n",
      "(8, 'Николенко'), tours: 50, ofic rating: 10\n",
      "(9, 'Левандовский'), tours: 34, ofic rating: 8\n",
      "(10, 'Пашковский'), tours: 36, ofic rating: 115\n",
      "(11, 'Прокофьева'), tours: 27, ofic rating: 65\n",
      "(12, 'Мереминский'), tours: 39, ofic rating: 38\n",
      "(13, 'Саксонов'), tours: 33, ofic rating: 158\n",
      "(14, 'Либер'), tours: 95, ofic rating: 7\n",
      "(15, 'Гилёв'), tours: 115, ofic rating: 30\n",
      "(16, 'Коврижных'), tours: 71, ofic rating: 104\n",
      "(17, 'Степанов'), tours: 27, ofic rating: 43\n",
      "(18, 'Новиков'), tours: 35, ofic rating: 132\n",
      "(19, 'Царёв'), tours: 12, ofic rating: 311\n",
      "(20, 'Мокин'), tours: 30, ofic rating: 74\n"
     ]
    }
   ],
   "source": [
    "print_player_rating(player_prob, 20)"
   ]
  },
  {
   "cell_type": "markdown",
   "id": "aa311f32-0e34-4008-b851-2ee76c7bf941",
   "metadata": {},
   "source": [
    "Теперь посмотрим, как можно получить максимальные метрики для команд"
   ]
  },
  {
   "cell_type": "code",
   "execution_count": 38,
   "id": "4a09a914-058e-4dea-9eba-7bcca2df073c",
   "metadata": {},
   "outputs": [
    {
     "name": "stdout",
     "output_type": "stream",
     "text": [
      "   sum of logits:\n",
      "train:  (0.8486784665164452, 0.7009875832031343)\n",
      "test:   (0.8004411866410098, 0.6427161088062152)\n",
      "   sum of probs:\n",
      "train:  (0.8432037372163629, 0.6968471130752303)\n",
      "test:   (0.7949279681400939, 0.6389882166967927)\n",
      "   sum of prob squares:\n",
      "train:  (0.8481866133147565, 0.7014140462067625)\n",
      "test:   (0.8010809746536702, 0.6450730298554439)\n",
      "   team prob:\n",
      "train:  (0.8487862139927072, 0.7020755039759692)\n",
      "test:   (0.8021459065585256, 0.6456093721027387)\n"
     ]
    }
   ],
   "source": [
    "print_metric(player_logit, player_prob, 3)"
   ]
  },
  {
   "cell_type": "markdown",
   "id": "d37932a7-c5fa-4131-9e24-d44f42ea1712",
   "metadata": {},
   "source": [
    "Экспериментально можно определить, что максимальные метрики для команды получаются, если считать командные результат по 3-4 лучшим ее игрокам."
   ]
  }
 ],
 "metadata": {
  "kernelspec": {
   "display_name": "Python 3",
   "language": "python",
   "name": "python3"
  },
  "language_info": {
   "codemirror_mode": {
    "name": "ipython",
    "version": 3
   },
   "file_extension": ".py",
   "mimetype": "text/x-python",
   "name": "python",
   "nbconvert_exporter": "python",
   "pygments_lexer": "ipython3",
   "version": "3.8.5"
  }
 },
 "nbformat": 4,
 "nbformat_minor": 5
}
