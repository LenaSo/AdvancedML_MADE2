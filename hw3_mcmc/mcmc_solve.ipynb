{
 "cells": [
  {
   "cell_type": "code",
   "execution_count": 1,
   "id": "3aed560d-1268-4bee-80f4-e9176360e880",
   "metadata": {},
   "outputs": [],
   "source": [
    "import numpy as np\n",
    "import pandas as pd\n",
    "from collections import Counter\n",
    "import random\n",
    "from functools import partial\n",
    "from contextlib import contextmanager\n",
    "import matplotlib.pyplot as plt\n",
    "\n",
    "DATA_DIR = '/media/elena/13e9efd4-799d-4087-8d03-b4e8eea4a3cc/MADE_DATA/2sem/AdvancedML/hw3_MCMC/corpora/'\n",
    "\n",
    "random.seed(3)"
   ]
  },
  {
   "cell_type": "markdown",
   "id": "dd4727f0-80d3-48e9-8c95-2ab18d1b34f6",
   "metadata": {},
   "source": [
    " > В этом небольшом домашнем задании мы попробуем улучшить метод Шерлока Холмса. Как известно, в рассказе The Adventure of the Dancing Men великий сыщик расшифровал загадочные письмена... Пользовался он для этого так называемым частотным методом: смотрел, какие буквы чаще встречаются в зашифрованных текстах, и пытался подставить буквы в соответствии с частотной таблицей: E — самая частая и так далее.\n",
    "В этом задании мы будем разрабатывать более современный и продвинутый вариант такого частотного метода. В качестве корпусов текстов для подсчётов частот можете взять что угодно, но для удобства вот вам “Война и мир” по-русски и по-английски.\n",
    "\n",
    " >   1. Реализуйте базовый частотный метод по Шерлоку Холмсу:\n",
    " \n",
    " >       ◦ подсчитайте частоты букв по корпусам (пунктуацию и капитализацию можно просто опустить, а вот пробелы лучше оставить);\n",
    "        ◦ возьмите какие-нибудь тестовые тексты (нужно взять по меньшей мере 2-3 предложения, иначе вряд ли сработает), зашифруйте их посредством случайной перестановки символов;\n",
    "        ◦ расшифруйте их таким частотным методом."
   ]
  },
  {
   "cell_type": "code",
   "execution_count": 2,
   "id": "83c32032-ad21-467c-a8f9-ddfc9904e3b3",
   "metadata": {},
   "outputs": [],
   "source": [
    "@contextmanager\n",
    "def gen_file(filepath):\n",
    "    f = open(filepath, 'r')\n",
    "    try:\n",
    "        yield (line for line in f)\n",
    "    finally:\n",
    "        f.close()"
   ]
  },
  {
   "cell_type": "code",
   "execution_count": 3,
   "id": "a97ac6d1-f4ab-4397-9072-910d1e923fa6",
   "metadata": {},
   "outputs": [],
   "source": [
    "def count_letters(text_gen, letters):\n",
    "    counts = Counter()\n",
    "    for line in text_gen:\n",
    "        counts.update(line.lower())\n",
    "    counts = {s : counts[s] for s in letters}\n",
    "    sorted_counts = sorted(counts.items(), key=lambda x: x[1], reverse=True)\n",
    "    \n",
    "    return sorted_counts"
   ]
  },
  {
   "cell_type": "code",
   "execution_count": 4,
   "id": "9ff89a9b-a294-47fb-8e63-051f5e9e68cf",
   "metadata": {},
   "outputs": [
    {
     "data": {
      "text/plain": [
       "'абвгдежзийклмнопрстуфхцчшщъыьэюя '"
      ]
     },
     "execution_count": 4,
     "metadata": {},
     "output_type": "execute_result"
    }
   ],
   "source": [
    "a = ord('а')\n",
    "ru_letters = [chr(i) for i in range(a, a + 32)]\n",
    "ru_letters.append(' ')\n",
    "''.join(ru_letters)"
   ]
  },
  {
   "cell_type": "code",
   "execution_count": 5,
   "id": "6d442118-4693-4282-adba-8c0d8a5b03b3",
   "metadata": {},
   "outputs": [
    {
     "data": {
      "text/plain": [
       "[(' ', 110708), ('о', 61282), ('а', 45209), ('е', 42519), ('и', 35838)]"
      ]
     },
     "execution_count": 5,
     "metadata": {},
     "output_type": "execute_result"
    }
   ],
   "source": [
    "with gen_file(DATA_DIR + 'WarAndPeace.txt') as gen:\n",
    "    ru_counts = count_letters(gen, ru_letters)\n",
    "ru_counts[:5]"
   ]
  },
  {
   "cell_type": "code",
   "execution_count": 6,
   "id": "153a5f16-3f97-43ce-988a-90a9bc9948d1",
   "metadata": {},
   "outputs": [],
   "source": [
    "def random_shift(letters):\n",
    "    return random.sample(letters, k=len(letters))"
   ]
  },
  {
   "cell_type": "markdown",
   "id": "4d633797-f78b-48d2-b3c8-138fa041c327",
   "metadata": {},
   "source": [
    "Для тестирования возьмем несколько предложений из Википедии про Толстого и закодируем их."
   ]
  },
  {
   "cell_type": "code",
   "execution_count": 7,
   "id": "15ec913c-bdc9-4d02-b4d4-fbf864ec6ce3",
   "metadata": {},
   "outputs": [],
   "source": [
    "cipher = random_shift(ru_letters)\n",
    "true_encoder = dict(zip(ru_letters, cipher))\n",
    "true_decoder = dict(zip(cipher, ru_letters))\n",
    "#list(zip(true_encoder.items(), true_decoder.items()))"
   ]
  },
  {
   "cell_type": "code",
   "execution_count": 8,
   "id": "da8e40bf-f398-487f-ab8b-f235d7fce76c",
   "metadata": {},
   "outputs": [],
   "source": [
    "ru_text = \"В своем дневнике Толстой сформулировал себе большое количество жизненных правил и целей, но удавалось следовать лишь их незначительной части. Среди удавшихся — серьезные занятия английским языком, музыкой, юриспруденцией. Кроме того, ни в дневнике, ни в письмах не отразилось начало занятия Толстым педагогикой и благотворительностью, хотя в 1849 году он впервые открыл школу для крестьянских детей. Основным преподавателем был Фока Демидович, крепостной, но и сам Лев Николаевич часто проводил занятия\""
   ]
  },
  {
   "cell_type": "code",
   "execution_count": 9,
   "id": "9835c503-9e28-4a4f-8c22-adb59bdd313a",
   "metadata": {},
   "outputs": [
    {
     "data": {
      "text/plain": [
       "'люрлз яюус лсва ючзырчзьюршзхякывхзлпыюр и юизыщъз юазывм рчлзюфвтс ссцгюжхплвыювюн ы ьюсзюкуплпызрщюры узлпчщюывъщювгюс тспмвч ыщсзьюмпрчвюрх увюкуплъвгрдююр хщ тсц ютпсдчвдюпсэывьравяюдтцазяюяктцазьюйхвржхку снв ьюахзя ючзэзюсвюлюус лсва юсвюлюжврщяпгюс юзчхптвызрщюспмпызютпсдчвдючзырчцяюж упэзэвазьювюиыпэзчлзхвч ыщсзрчщйюгзчдюлююэзукюзсюлж хлц юзчахцыюъазыкюуыдюах рчщдсравгюу ч ьюзрсзлсцяюжх жзуплпч ы яюицыюшзапюу явузлвмюах жзрчсзьюсзювюрпяюы люсвазып лвмюмпрчзюжхзлзувыютпсдчвд'"
      ]
     },
     "execution_count": 9,
     "metadata": {},
     "output_type": "execute_result"
    }
   ],
   "source": [
    "enc_text = ''.join([true_encoder[s] for s in ru_text.lower() if s in ru_letters])\n",
    "enc_text"
   ]
  },
  {
   "cell_type": "markdown",
   "id": "a7b80270-09b6-46cc-86ce-bed65dc3c83c",
   "metadata": {},
   "source": [
    "Проверим, что зная истинный декодер мы можем правильно расшифровать текст:"
   ]
  },
  {
   "cell_type": "code",
   "execution_count": 10,
   "id": "81e4ed3d-8c49-49fe-8a72-75a6e88e957a",
   "metadata": {},
   "outputs": [
    {
     "data": {
      "text/plain": [
       "'в своем дневнике толстой сформулировал себе большое количество жизненных правил и целей но удавалось следовать лишь их незначительной части среди удавшихся  серьезные занятия английским языком музыкой юриспруденцией кроме того ни в дневнике ни в письмах не отразилось начало занятия толстым педагогикой и благотворительностью хотя в  году он впервые открыл школу для крестьянских детей основным преподавателем был фока демидович крепостной но и сам лев николаевич часто проводил занятия'"
      ]
     },
     "execution_count": 10,
     "metadata": {},
     "output_type": "execute_result"
    }
   ],
   "source": [
    "''.join([true_decoder[s] for s in enc_text])"
   ]
  },
  {
   "cell_type": "markdown",
   "id": "ffbfd1e1-a0c9-454b-94a0-f58374a52d10",
   "metadata": {},
   "source": [
    "Частотный декодер строит соответствие между символами, упорядочивая их по частоте:"
   ]
  },
  {
   "cell_type": "code",
   "execution_count": 11,
   "id": "1f491d9f-a2fb-45e8-9e0d-9a83709123c3",
   "metadata": {},
   "outputs": [],
   "source": [
    "def freq_decoder(enc_text, lng_sorted_counts):\n",
    "    enc_counts = Counter(enc_text)\n",
    "    enc_counts = sorted(enc_counts.items(), key=lambda x: x[1], reverse=True)\n",
    "    dec = {\n",
    "        item[0] : lng_sorted_counts[i][0]\n",
    "        for i, item in enumerate(enc_counts)\n",
    "    } \n",
    "    return dec"
   ]
  },
  {
   "cell_type": "code",
   "execution_count": 12,
   "id": "4dabfdaf-6ace-4ac8-bb15-6e4b7b03213b",
   "metadata": {},
   "outputs": [],
   "source": [
    "def decoder_estimate(decoder, enc_text, true_decoder=None):\n",
    "    if true_decoder:\n",
    "        equal_items = decoder.items() & true_decoder.items()\n",
    "        print(f\"correct decoding: {len(equal_items)} letters: \")\n",
    "        print(list(zip(*equal_items))[1])\n",
    "    print(''.join([decoder[c] for c in enc_text]))"
   ]
  },
  {
   "cell_type": "code",
   "execution_count": 13,
   "id": "bd982aa3-8445-42db-bad1-edc744c49325",
   "metadata": {},
   "outputs": [
    {
     "name": "stdout",
     "output_type": "stream",
     "text": [
      "correct decoding: 7 letters: \n",
      "('м', 'о', 'с', 'р', 'в', ' ', 'ш')\n",
      "в своам киавиеда лонслоя схормзнеровтн сажа жонушоа донебаслво эегиаииьч ыртвен е юаная ио зктвтносу снаковтлу нешу еч иагитбелануиоя бтсле сраке зктвшечсп  саруагиьа гтиплеп тийнеясдем пгьдом мзгьдоя цресырзкаиюеая дрома лойо ие в киавиеда ие в ыесумтч иа олртгеносу итбтно гтиплеп лонсльм ыактйойедоя е жнтйолворелануиослуц чолп в  йокз ои выарвьа олдрьн шдонз кнп драслуписдеч калая осиовиьм ыраыоктвтланам жьн ходт камековеб драыослиоя ио е стм нав иедонтавеб бтсло ыровокен гтиплеп\n"
     ]
    }
   ],
   "source": [
    "ru_freq_dec = freq_decoder(enc_text, ru_counts)\n",
    "decoder_estimate(ru_freq_dec, enc_text, true_decoder)"
   ]
  },
  {
   "cell_type": "markdown",
   "id": "e605a6da-e904-4b22-8524-d78eb67f978f",
   "metadata": {},
   "source": [
    "Частотным методом удалось расшифровать пробел и 6 букв, но этого явно недотаточно для понимания текста."
   ]
  },
  {
   "cell_type": "markdown",
   "id": "79d31a6a-549c-4500-92b4-811a3d17d348",
   "metadata": {},
   "source": [
    ">    2. Вряд ли в результате получилась такая уж хорошая расшифровка, разве что если вы брали в качестве тестовых данных целые рассказы. Но и Шерлок Холмс был не так уж прост: после буквы E, которая действительно выделяется частотой, дальше он анализировал уже конкретные слова и пытался угадать, какими они могли бы быть. Я не знаю, как запрограммировать такой интуитивный анализ, так что давайте просто сделаем следующий логический шаг:\n",
    "\n",
    ">        ◦ подсчитайте частоты биграмм (т.е. пар последовательных букв) по корпусам;\n",
    "        ◦ проведите тестирование аналогично п.1, но при помощи биграмм"
   ]
  },
  {
   "cell_type": "code",
   "execution_count": 14,
   "id": "d317a7b0-c892-4cd4-bc01-d104964181ca",
   "metadata": {},
   "outputs": [],
   "source": [
    "def count_bigrams(text_gen, letters):\n",
    "    counts = Counter()\n",
    "    for line in text_gen:\n",
    "        text = line.lower()\n",
    "        text = ''.join([s for s in text if s in letters])\n",
    "        counts.update(zip(text[:-1], text[1:]))\n",
    "            \n",
    "    sorted_counts = sorted(counts.items(), key=lambda x: x[1], reverse=True)\n",
    "    return sorted_counts"
   ]
  },
  {
   "cell_type": "code",
   "execution_count": 15,
   "id": "10a1cf03-b8d5-438e-999c-013abe3c9670",
   "metadata": {},
   "outputs": [
    {
     "data": {
      "text/plain": [
       "[(('о', ' '), 13071),\n",
       " (('и', ' '), 11180),\n",
       " (('а', ' '), 10194),\n",
       " (('е', ' '), 9799),\n",
       " ((' ', 'с'), 9798)]"
      ]
     },
     "execution_count": 15,
     "metadata": {},
     "output_type": "execute_result"
    }
   ],
   "source": [
    "with gen_file(DATA_DIR + 'WarAndPeace.txt') as gen:\n",
    "    ru_bigrams = count_bigrams(gen, ru_letters)\n",
    "ru_bigrams[:5]"
   ]
  },
  {
   "cell_type": "code",
   "execution_count": 16,
   "id": "2aa209a7-e33b-4ab1-89e0-e1af3e40ddd5",
   "metadata": {},
   "outputs": [
    {
     "data": {
      "text/plain": [
       "787"
      ]
     },
     "execution_count": 16,
     "metadata": {},
     "output_type": "execute_result"
    }
   ],
   "source": [
    "len(ru_bigrams)"
   ]
  },
  {
   "cell_type": "code",
   "execution_count": 17,
   "id": "d2384cfa-88e3-4c81-8f38-133e3a725da7",
   "metadata": {},
   "outputs": [
    {
     "data": {
      "text/plain": [
       "208"
      ]
     },
     "execution_count": 17,
     "metadata": {},
     "output_type": "execute_result"
    }
   ],
   "source": [
    "enc_bigrams = count_bigrams((enc_text,), ru_letters)\n",
    "len(enc_bigrams)"
   ]
  },
  {
   "cell_type": "markdown",
   "id": "e18c5534-a443-41cd-a616-5b308898f62b",
   "metadata": {},
   "source": [
    "Биграмм всего может быть 33*33, т.е. каждый символ с каждым. Для удобства представим их в виде датафрейма, упорядочим строки и столбцы по частоте из п.1."
   ]
  },
  {
   "cell_type": "code",
   "execution_count": 18,
   "id": "468c2e7b-1bf4-4b30-9aee-d6747cea8fae",
   "metadata": {},
   "outputs": [],
   "source": [
    "def bigram_to_df(bigrams, letters):\n",
    "    bigram_df = pd.DataFrame(0, columns=letters, index=letters)\n",
    "    for (s1, s2), n in bigrams:\n",
    "        bigram_df.loc[s1, s2] = n\n",
    "    return bigram_df"
   ]
  },
  {
   "cell_type": "code",
   "execution_count": 19,
   "id": "1632b510-654e-402b-aa9b-ca380fa00757",
   "metadata": {},
   "outputs": [
    {
     "data": {
      "text/html": [
       "<div>\n",
       "<style scoped>\n",
       "    .dataframe tbody tr th:only-of-type {\n",
       "        vertical-align: middle;\n",
       "    }\n",
       "\n",
       "    .dataframe tbody tr th {\n",
       "        vertical-align: top;\n",
       "    }\n",
       "\n",
       "    .dataframe thead th {\n",
       "        text-align: right;\n",
       "    }\n",
       "</style>\n",
       "<table border=\"1\" class=\"dataframe\">\n",
       "  <thead>\n",
       "    <tr style=\"text-align: right;\">\n",
       "      <th></th>\n",
       "      <th></th>\n",
       "      <th>о</th>\n",
       "      <th>а</th>\n",
       "      <th>е</th>\n",
       "      <th>и</th>\n",
       "      <th>н</th>\n",
       "      <th>т</th>\n",
       "      <th>с</th>\n",
       "      <th>л</th>\n",
       "      <th>в</th>\n",
       "      <th>...</th>\n",
       "      <th>й</th>\n",
       "      <th>ж</th>\n",
       "      <th>ш</th>\n",
       "      <th>х</th>\n",
       "      <th>ю</th>\n",
       "      <th>ц</th>\n",
       "      <th>э</th>\n",
       "      <th>щ</th>\n",
       "      <th>ф</th>\n",
       "      <th>ъ</th>\n",
       "    </tr>\n",
       "  </thead>\n",
       "  <tbody>\n",
       "    <tr>\n",
       "      <th></th>\n",
       "      <td>8592</td>\n",
       "      <td>7542</td>\n",
       "      <td>1848</td>\n",
       "      <td>2435</td>\n",
       "      <td>6739</td>\n",
       "      <td>9223</td>\n",
       "      <td>4298</td>\n",
       "      <td>9798</td>\n",
       "      <td>1666</td>\n",
       "      <td>9458</td>\n",
       "      <td>...</td>\n",
       "      <td>17</td>\n",
       "      <td>1062</td>\n",
       "      <td>625</td>\n",
       "      <td>715</td>\n",
       "      <td>40</td>\n",
       "      <td>189</td>\n",
       "      <td>1566</td>\n",
       "      <td>47</td>\n",
       "      <td>492</td>\n",
       "      <td>1</td>\n",
       "    </tr>\n",
       "    <tr>\n",
       "      <th>о</th>\n",
       "      <td>13071</td>\n",
       "      <td>121</td>\n",
       "      <td>5</td>\n",
       "      <td>1347</td>\n",
       "      <td>500</td>\n",
       "      <td>4284</td>\n",
       "      <td>4281</td>\n",
       "      <td>4156</td>\n",
       "      <td>4316</td>\n",
       "      <td>5132</td>\n",
       "      <td>...</td>\n",
       "      <td>2296</td>\n",
       "      <td>1018</td>\n",
       "      <td>826</td>\n",
       "      <td>346</td>\n",
       "      <td>470</td>\n",
       "      <td>59</td>\n",
       "      <td>14</td>\n",
       "      <td>80</td>\n",
       "      <td>299</td>\n",
       "      <td>0</td>\n",
       "    </tr>\n",
       "    <tr>\n",
       "      <th>а</th>\n",
       "      <td>10194</td>\n",
       "      <td>4</td>\n",
       "      <td>10</td>\n",
       "      <td>549</td>\n",
       "      <td>78</td>\n",
       "      <td>3275</td>\n",
       "      <td>2992</td>\n",
       "      <td>2390</td>\n",
       "      <td>5673</td>\n",
       "      <td>2191</td>\n",
       "      <td>...</td>\n",
       "      <td>487</td>\n",
       "      <td>764</td>\n",
       "      <td>623</td>\n",
       "      <td>621</td>\n",
       "      <td>497</td>\n",
       "      <td>56</td>\n",
       "      <td>1</td>\n",
       "      <td>151</td>\n",
       "      <td>325</td>\n",
       "      <td>0</td>\n",
       "    </tr>\n",
       "    <tr>\n",
       "      <th>е</th>\n",
       "      <td>9799</td>\n",
       "      <td>157</td>\n",
       "      <td>6</td>\n",
       "      <td>924</td>\n",
       "      <td>104</td>\n",
       "      <td>4294</td>\n",
       "      <td>2281</td>\n",
       "      <td>2200</td>\n",
       "      <td>3804</td>\n",
       "      <td>847</td>\n",
       "      <td>...</td>\n",
       "      <td>1467</td>\n",
       "      <td>597</td>\n",
       "      <td>460</td>\n",
       "      <td>661</td>\n",
       "      <td>220</td>\n",
       "      <td>173</td>\n",
       "      <td>0</td>\n",
       "      <td>413</td>\n",
       "      <td>9</td>\n",
       "      <td>0</td>\n",
       "    </tr>\n",
       "    <tr>\n",
       "      <th>и</th>\n",
       "      <td>11180</td>\n",
       "      <td>173</td>\n",
       "      <td>45</td>\n",
       "      <td>1496</td>\n",
       "      <td>402</td>\n",
       "      <td>2040</td>\n",
       "      <td>2111</td>\n",
       "      <td>1784</td>\n",
       "      <td>3137</td>\n",
       "      <td>1659</td>\n",
       "      <td>...</td>\n",
       "      <td>907</td>\n",
       "      <td>247</td>\n",
       "      <td>227</td>\n",
       "      <td>1071</td>\n",
       "      <td>185</td>\n",
       "      <td>908</td>\n",
       "      <td>1</td>\n",
       "      <td>67</td>\n",
       "      <td>11</td>\n",
       "      <td>0</td>\n",
       "    </tr>\n",
       "  </tbody>\n",
       "</table>\n",
       "<p>5 rows × 33 columns</p>\n",
       "</div>"
      ],
      "text/plain": [
       "             о     а     е     и     н     т     с     л     в  ...     й  \\\n",
       "    8592  7542  1848  2435  6739  9223  4298  9798  1666  9458  ...    17   \n",
       "о  13071   121     5  1347   500  4284  4281  4156  4316  5132  ...  2296   \n",
       "а  10194     4    10   549    78  3275  2992  2390  5673  2191  ...   487   \n",
       "е   9799   157     6   924   104  4294  2281  2200  3804   847  ...  1467   \n",
       "и  11180   173    45  1496   402  2040  2111  1784  3137  1659  ...   907   \n",
       "\n",
       "      ж    ш     х    ю    ц     э    щ    ф  ъ  \n",
       "   1062  625   715   40  189  1566   47  492  1  \n",
       "о  1018  826   346  470   59    14   80  299  0  \n",
       "а   764  623   621  497   56     1  151  325  0  \n",
       "е   597  460   661  220  173     0  413    9  0  \n",
       "и   247  227  1071  185  908     1   67   11  0  \n",
       "\n",
       "[5 rows x 33 columns]"
      ]
     },
     "execution_count": 19,
     "metadata": {},
     "output_type": "execute_result"
    }
   ],
   "source": [
    "ru_labels = list(list(zip(*ru_counts))[0])\n",
    "ru_bigram_df = bigram_to_df(ru_bigrams, ru_labels)\n",
    "ru_bigram_df.head(5)"
   ]
  },
  {
   "cell_type": "markdown",
   "id": "101ac3ba-ab08-4909-ad53-25ecf8346bea",
   "metadata": {},
   "source": [
    "В итоге нам надо найти порядок символов (строк и столбцов), как упорядочить табличку с биграммами не очень понятно, так что попробуем из нее извлечь некоторые эмбеддинги для отдельных символов. Т.е. помимо частоты символов еще посчитаем их скалярное произведение с соседними символами. Декодер будет подбирать для каждого символа наиболее близкий по эмбеддингу символ."
   ]
  },
  {
   "cell_type": "code",
   "execution_count": 20,
   "id": "7a3be623-4811-4acd-a70f-960e641676ee",
   "metadata": {},
   "outputs": [],
   "source": [
    "def bigram_embeddings(bigram_df):\n",
    "    emb = pd.DataFrame(0, columns = bigram_df.columns, index=[0,1,2,3])\n",
    "    for c in bigram_df.columns:\n",
    "        emb.loc[0, c] = (bigram_df.loc[c].values * \n",
    "                         bigram_df[c].values).sum()\n",
    "        emb.loc[1, c] = (bigram_df[c] * \n",
    "                        bigram_df[c]).sum() / \\\n",
    "                        (bigram_df * \n",
    "                        bigram_df[c].values[:,np.newaxis]).sum().sum()\n",
    "        emb.loc[2, c] = (bigram_df.loc[c] * \n",
    "                        bigram_df.loc[c]).sum() / \\\n",
    "                        (bigram_df * \n",
    "                        bigram_df.loc[c]).sum().sum()\n",
    "        emb.loc[3, c] = bigram_df[c].sum()\n",
    "    emb.loc[0] /= emb.loc[0].sum()\n",
    "    emb.loc[3] /= bigram_df.sum().sum()\n",
    "    emb = emb.fillna(0)\n",
    "    return emb\n",
    "\n",
    "def bigram_decoder(lng_emb1, msg_emb):\n",
    "    lng_emb = lng_emb1.copy()\n",
    "    msg_labels = (msg_emb * msg_emb).sum(axis=0).sort_values(ascending=False).index.tolist()\n",
    "    dec = {}\n",
    "    for msg_c in msg_labels:\n",
    "        similarity = (lng_emb * msg_emb[msg_c].values[:,np.newaxis]).sum(axis=0)\n",
    "        lng_c = similarity.idxmax()\n",
    "        del lng_emb[lng_c]\n",
    "        dec[msg_c] = lng_c\n",
    "    return dec"
   ]
  },
  {
   "cell_type": "code",
   "execution_count": 21,
   "id": "577916bc-4aea-41e6-84af-cda61bce2a72",
   "metadata": {},
   "outputs": [
    {
     "data": {
      "text/html": [
       "<div>\n",
       "<style scoped>\n",
       "    .dataframe tbody tr th:only-of-type {\n",
       "        vertical-align: middle;\n",
       "    }\n",
       "\n",
       "    .dataframe tbody tr th {\n",
       "        vertical-align: top;\n",
       "    }\n",
       "\n",
       "    .dataframe thead th {\n",
       "        text-align: right;\n",
       "    }\n",
       "</style>\n",
       "<table border=\"1\" class=\"dataframe\">\n",
       "  <thead>\n",
       "    <tr style=\"text-align: right;\">\n",
       "      <th></th>\n",
       "      <th></th>\n",
       "      <th>о</th>\n",
       "      <th>а</th>\n",
       "      <th>е</th>\n",
       "      <th>и</th>\n",
       "      <th>н</th>\n",
       "      <th>т</th>\n",
       "      <th>с</th>\n",
       "      <th>л</th>\n",
       "      <th>в</th>\n",
       "      <th>...</th>\n",
       "      <th>й</th>\n",
       "      <th>ж</th>\n",
       "      <th>ш</th>\n",
       "      <th>х</th>\n",
       "      <th>ю</th>\n",
       "      <th>ц</th>\n",
       "      <th>э</th>\n",
       "      <th>щ</th>\n",
       "      <th>ф</th>\n",
       "      <th>ъ</th>\n",
       "    </tr>\n",
       "  </thead>\n",
       "  <tbody>\n",
       "    <tr>\n",
       "      <th>0</th>\n",
       "      <td>0.271738</td>\n",
       "      <td>0.156977</td>\n",
       "      <td>0.073991</td>\n",
       "      <td>0.060123</td>\n",
       "      <td>0.069582</td>\n",
       "      <td>0.064251</td>\n",
       "      <td>0.045323</td>\n",
       "      <td>0.027775</td>\n",
       "      <td>0.043951</td>\n",
       "      <td>0.045463</td>\n",
       "      <td>...</td>\n",
       "      <td>0.000065</td>\n",
       "      <td>0.001487</td>\n",
       "      <td>0.001084</td>\n",
       "      <td>0.001428</td>\n",
       "      <td>0.000076</td>\n",
       "      <td>0.000191</td>\n",
       "      <td>0.000030</td>\n",
       "      <td>0.000229</td>\n",
       "      <td>0.000068</td>\n",
       "      <td>5.905258e-10</td>\n",
       "    </tr>\n",
       "    <tr>\n",
       "      <th>1</th>\n",
       "      <td>0.202810</td>\n",
       "      <td>0.159163</td>\n",
       "      <td>0.147092</td>\n",
       "      <td>0.090782</td>\n",
       "      <td>0.081438</td>\n",
       "      <td>0.077327</td>\n",
       "      <td>0.082788</td>\n",
       "      <td>0.076276</td>\n",
       "      <td>0.076838</td>\n",
       "      <td>0.077193</td>\n",
       "      <td>...</td>\n",
       "      <td>0.034977</td>\n",
       "      <td>0.014486</td>\n",
       "      <td>0.012978</td>\n",
       "      <td>0.014112</td>\n",
       "      <td>0.012203</td>\n",
       "      <td>0.012101</td>\n",
       "      <td>0.014022</td>\n",
       "      <td>0.007063</td>\n",
       "      <td>0.004888</td>\n",
       "      <td>7.433030e-03</td>\n",
       "    </tr>\n",
       "    <tr>\n",
       "      <th>2</th>\n",
       "      <td>0.205809</td>\n",
       "      <td>0.132897</td>\n",
       "      <td>0.105251</td>\n",
       "      <td>0.099675</td>\n",
       "      <td>0.093321</td>\n",
       "      <td>0.096175</td>\n",
       "      <td>0.089460</td>\n",
       "      <td>0.084786</td>\n",
       "      <td>0.066432</td>\n",
       "      <td>0.057233</td>\n",
       "      <td>...</td>\n",
       "      <td>0.041105</td>\n",
       "      <td>0.035001</td>\n",
       "      <td>0.023564</td>\n",
       "      <td>0.018264</td>\n",
       "      <td>0.018197</td>\n",
       "      <td>0.008904</td>\n",
       "      <td>0.038023</td>\n",
       "      <td>0.013381</td>\n",
       "      <td>0.006162</td>\n",
       "      <td>4.774473e-03</td>\n",
       "    </tr>\n",
       "    <tr>\n",
       "      <th>3</th>\n",
       "      <td>0.168659</td>\n",
       "      <td>0.094596</td>\n",
       "      <td>0.069895</td>\n",
       "      <td>0.065773</td>\n",
       "      <td>0.055301</td>\n",
       "      <td>0.054143</td>\n",
       "      <td>0.047319</td>\n",
       "      <td>0.043418</td>\n",
       "      <td>0.042174</td>\n",
       "      <td>0.038169</td>\n",
       "      <td>...</td>\n",
       "      <td>0.009608</td>\n",
       "      <td>0.008440</td>\n",
       "      <td>0.007867</td>\n",
       "      <td>0.007108</td>\n",
       "      <td>0.005406</td>\n",
       "      <td>0.003370</td>\n",
       "      <td>0.002503</td>\n",
       "      <td>0.002342</td>\n",
       "      <td>0.001861</td>\n",
       "      <td>4.378500e-04</td>\n",
       "    </tr>\n",
       "  </tbody>\n",
       "</table>\n",
       "<p>4 rows × 33 columns</p>\n",
       "</div>"
      ],
      "text/plain": [
       "                    о         а         е         и         н         т  \\\n",
       "0  0.271738  0.156977  0.073991  0.060123  0.069582  0.064251  0.045323   \n",
       "1  0.202810  0.159163  0.147092  0.090782  0.081438  0.077327  0.082788   \n",
       "2  0.205809  0.132897  0.105251  0.099675  0.093321  0.096175  0.089460   \n",
       "3  0.168659  0.094596  0.069895  0.065773  0.055301  0.054143  0.047319   \n",
       "\n",
       "          с         л         в  ...         й         ж         ш         х  \\\n",
       "0  0.027775  0.043951  0.045463  ...  0.000065  0.001487  0.001084  0.001428   \n",
       "1  0.076276  0.076838  0.077193  ...  0.034977  0.014486  0.012978  0.014112   \n",
       "2  0.084786  0.066432  0.057233  ...  0.041105  0.035001  0.023564  0.018264   \n",
       "3  0.043418  0.042174  0.038169  ...  0.009608  0.008440  0.007867  0.007108   \n",
       "\n",
       "          ю         ц         э         щ         ф             ъ  \n",
       "0  0.000076  0.000191  0.000030  0.000229  0.000068  5.905258e-10  \n",
       "1  0.012203  0.012101  0.014022  0.007063  0.004888  7.433030e-03  \n",
       "2  0.018197  0.008904  0.038023  0.013381  0.006162  4.774473e-03  \n",
       "3  0.005406  0.003370  0.002503  0.002342  0.001861  4.378500e-04  \n",
       "\n",
       "[4 rows x 33 columns]"
      ]
     },
     "execution_count": 21,
     "metadata": {},
     "output_type": "execute_result"
    }
   ],
   "source": [
    "ru_emb = bigram_embeddings(ru_bigram_df)\n",
    "ru_emb"
   ]
  },
  {
   "cell_type": "code",
   "execution_count": 22,
   "id": "809e63f1-d329-42ee-b081-6780a478f45d",
   "metadata": {},
   "outputs": [
    {
     "name": "stdout",
     "output_type": "stream",
     "text": [
      "correct decoding: 9 letters: \n",
      "('о', 'т', 'л', 'ю', 'ъ', 'в', ' ', 'и', 'ш')\n",
      "в евоад ясавсира толетоь ежопдблиповнл еаэа эолкшоа ролийаетво щимсассгч ыпнвил и халаь со бянвнлоек елаяовнтк лишк ич самснйиталксоь йнети епаяи бянвшичеу  еапкамсга мнсутиу нсзлиьерид умгрод дбмгроь юпиеыпбяасхиаь рпода тозо си в ясавсира си в ыиекднч са отпнмилоек снйнло мнсутиу толетгд ыаянзозироь и элнзотвопиталксоеткю чоту в  зояб ос выапвга отрпгл шролб ялу рпаеткусерич яатаь оесовсгд ыпаыоянвнталад эгл жорн яадияовий рпаыоетсоь со и енд лав сиролнавий йнето ыповояил мнсутиу\n"
     ]
    },
    {
     "name": "stderr",
     "output_type": "stream",
     "text": [
      "<ipython-input-20-75d67f1ef0b6>:6: RuntimeWarning: invalid value encountered in long_scalars\n",
      "  emb.loc[1, c] = (bigram_df[c] *\n",
      "<ipython-input-20-75d67f1ef0b6>:10: RuntimeWarning: invalid value encountered in long_scalars\n",
      "  emb.loc[2, c] = (bigram_df.loc[c] *\n"
     ]
    }
   ],
   "source": [
    "enc_df = bigram_to_df(enc_bigrams, ru_labels)\n",
    "enc_emb = bigram_embeddings(enc_df)\n",
    "\n",
    "bigram_dec = bigram_decoder(ru_emb, enc_emb)\n",
    "decoder_estimate(bigram_dec, enc_text, true_decoder)"
   ]
  },
  {
   "cell_type": "markdown",
   "id": "f27d2b31-6172-46a4-8e28-eec4b205c0c4",
   "metadata": {},
   "source": [
    "Получилось не намного лучше частотного метода."
   ]
  },
  {
   "cell_type": "markdown",
   "id": "f1c3e043-f713-4d8f-85eb-4ef088146f0a",
   "metadata": {},
   "source": [
    "> 3. Но и это ещё не всё: биграммы скорее всего тоже далеко не всегда работают. Основная часть задания — в том, как можно их улучшить:\n",
    "\n",
    ">         ◦ предложите метод обучения перестановки символов в этом задании, основанный на MCMC-сэмплировании, но по-прежнему работающий на основе статистики биграмм;\n",
    "        ◦ реализуйте и протестируйте его, убедитесь, что результаты улучшились."
   ]
  },
  {
   "cell_type": "markdown",
   "id": "1cb19d7f-2ccb-4065-acc2-d287fa20d481",
   "metadata": {},
   "source": [
    "Хотелось бы так переставить столбцы и строки матрицы биграмм закодированного текста, чтобы они максимально соответствовали частотам биграмм русских слов. Т.е. если вероятности биграмм в Войне и Мире обозначить $P_{ij}$, а количество биграмм в зашированной строке $n_{ij}$, то мы хотим максимизировать правдоподобие $$ \\Pi P_{ij}^{n_{ij}} \\to max$$\n",
    "\n",
    "или логарифм правдоподобия $$ \\sum n_{ij}log(P_{ij}) \\to max $$\n",
    "\n",
    "Будем использовать MCMC-сэмплирование для перестановки $n_{ij}$ так, чтобы увеличивать правдоподобие"
   ]
  },
  {
   "cell_type": "markdown",
   "id": "cdd79219-9dd1-4331-a71e-7288afbb400f",
   "metadata": {},
   "source": [
    "Найдем логарифм вероятностей для биграмм корпуса:"
   ]
  },
  {
   "cell_type": "code",
   "execution_count": 23,
   "id": "7f590c8b-bc3e-42cd-8560-10f896d2d22b",
   "metadata": {},
   "outputs": [
    {
     "data": {
      "text/html": [
       "<div>\n",
       "<style scoped>\n",
       "    .dataframe tbody tr th:only-of-type {\n",
       "        vertical-align: middle;\n",
       "    }\n",
       "\n",
       "    .dataframe tbody tr th {\n",
       "        vertical-align: top;\n",
       "    }\n",
       "\n",
       "    .dataframe thead th {\n",
       "        text-align: right;\n",
       "    }\n",
       "</style>\n",
       "<table border=\"1\" class=\"dataframe\">\n",
       "  <thead>\n",
       "    <tr style=\"text-align: right;\">\n",
       "      <th></th>\n",
       "      <th></th>\n",
       "      <th>о</th>\n",
       "      <th>а</th>\n",
       "      <th>е</th>\n",
       "      <th>и</th>\n",
       "      <th>н</th>\n",
       "      <th>т</th>\n",
       "      <th>с</th>\n",
       "      <th>л</th>\n",
       "      <th>в</th>\n",
       "      <th>...</th>\n",
       "      <th>й</th>\n",
       "      <th>ж</th>\n",
       "      <th>ш</th>\n",
       "      <th>х</th>\n",
       "      <th>ю</th>\n",
       "      <th>ц</th>\n",
       "      <th>э</th>\n",
       "      <th>щ</th>\n",
       "      <th>ф</th>\n",
       "      <th>ъ</th>\n",
       "    </tr>\n",
       "  </thead>\n",
       "  <tbody>\n",
       "    <tr>\n",
       "      <th></th>\n",
       "      <td>-4.320494</td>\n",
       "      <td>-4.450838</td>\n",
       "      <td>-5.857222</td>\n",
       "      <td>-5.581379</td>\n",
       "      <td>-4.563414</td>\n",
       "      <td>-4.249625</td>\n",
       "      <td>-5.013176</td>\n",
       "      <td>-4.189147</td>\n",
       "      <td>-5.960900</td>\n",
       "      <td>-4.224465</td>\n",
       "      <td>...</td>\n",
       "      <td>-10.545868</td>\n",
       "      <td>-6.411172</td>\n",
       "      <td>-6.941329</td>\n",
       "      <td>-6.806798</td>\n",
       "      <td>-9.690202</td>\n",
       "      <td>-8.137334</td>\n",
       "      <td>-6.022801</td>\n",
       "      <td>-9.528933</td>\n",
       "      <td>-7.180602</td>\n",
       "      <td>-13.379081</td>\n",
       "    </tr>\n",
       "    <tr>\n",
       "      <th>о</th>\n",
       "      <td>-3.900930</td>\n",
       "      <td>-8.583290</td>\n",
       "      <td>-11.769643</td>\n",
       "      <td>-6.173446</td>\n",
       "      <td>-7.164473</td>\n",
       "      <td>-5.016439</td>\n",
       "      <td>-5.017139</td>\n",
       "      <td>-5.046773</td>\n",
       "      <td>-5.008997</td>\n",
       "      <td>-4.835830</td>\n",
       "      <td>...</td>\n",
       "      <td>-5.640157</td>\n",
       "      <td>-6.453486</td>\n",
       "      <td>-6.662486</td>\n",
       "      <td>-7.532642</td>\n",
       "      <td>-7.226348</td>\n",
       "      <td>-9.301544</td>\n",
       "      <td>-10.740024</td>\n",
       "      <td>-8.997054</td>\n",
       "      <td>-7.678637</td>\n",
       "      <td>-15.681666</td>\n",
       "    </tr>\n",
       "    <tr>\n",
       "      <th>а</th>\n",
       "      <td>-4.149526</td>\n",
       "      <td>-11.992787</td>\n",
       "      <td>-11.076496</td>\n",
       "      <td>-7.070983</td>\n",
       "      <td>-9.022372</td>\n",
       "      <td>-5.285008</td>\n",
       "      <td>-5.375384</td>\n",
       "      <td>-5.600032</td>\n",
       "      <td>-4.735608</td>\n",
       "      <td>-5.686968</td>\n",
       "      <td>...</td>\n",
       "      <td>-7.190817</td>\n",
       "      <td>-6.740513</td>\n",
       "      <td>-6.944534</td>\n",
       "      <td>-6.947750</td>\n",
       "      <td>-7.170491</td>\n",
       "      <td>-9.353729</td>\n",
       "      <td>-13.379081</td>\n",
       "      <td>-8.361801</td>\n",
       "      <td>-7.595256</td>\n",
       "      <td>-15.681666</td>\n",
       "    </tr>\n",
       "    <tr>\n",
       "      <th>е</th>\n",
       "      <td>-4.189045</td>\n",
       "      <td>-8.322835</td>\n",
       "      <td>-11.587321</td>\n",
       "      <td>-6.550369</td>\n",
       "      <td>-8.734690</td>\n",
       "      <td>-5.014107</td>\n",
       "      <td>-5.646712</td>\n",
       "      <td>-5.682868</td>\n",
       "      <td>-5.135273</td>\n",
       "      <td>-6.637380</td>\n",
       "      <td>...</td>\n",
       "      <td>-6.088106</td>\n",
       "      <td>-6.987164</td>\n",
       "      <td>-7.247854</td>\n",
       "      <td>-6.885327</td>\n",
       "      <td>-7.985453</td>\n",
       "      <td>-8.225789</td>\n",
       "      <td>-15.681666</td>\n",
       "      <td>-7.355633</td>\n",
       "      <td>-11.181856</td>\n",
       "      <td>-15.681666</td>\n",
       "    </tr>\n",
       "    <tr>\n",
       "      <th>и</th>\n",
       "      <td>-4.057199</td>\n",
       "      <td>-8.225789</td>\n",
       "      <td>-9.572418</td>\n",
       "      <td>-6.068531</td>\n",
       "      <td>-7.382629</td>\n",
       "      <td>-5.758376</td>\n",
       "      <td>-5.724164</td>\n",
       "      <td>-5.892468</td>\n",
       "      <td>-5.328059</td>\n",
       "      <td>-5.965111</td>\n",
       "      <td>...</td>\n",
       "      <td>-6.568939</td>\n",
       "      <td>-7.869693</td>\n",
       "      <td>-7.954131</td>\n",
       "      <td>-6.402733</td>\n",
       "      <td>-8.158725</td>\n",
       "      <td>-6.567837</td>\n",
       "      <td>-13.379081</td>\n",
       "      <td>-9.174388</td>\n",
       "      <td>-10.981186</td>\n",
       "      <td>-15.681666</td>\n",
       "    </tr>\n",
       "  </tbody>\n",
       "</table>\n",
       "<p>5 rows × 33 columns</p>\n",
       "</div>"
      ],
      "text/plain": [
       "                     о          а         е         и         н         т  \\\n",
       "  -4.320494  -4.450838  -5.857222 -5.581379 -4.563414 -4.249625 -5.013176   \n",
       "о -3.900930  -8.583290 -11.769643 -6.173446 -7.164473 -5.016439 -5.017139   \n",
       "а -4.149526 -11.992787 -11.076496 -7.070983 -9.022372 -5.285008 -5.375384   \n",
       "е -4.189045  -8.322835 -11.587321 -6.550369 -8.734690 -5.014107 -5.646712   \n",
       "и -4.057199  -8.225789  -9.572418 -6.068531 -7.382629 -5.758376 -5.724164   \n",
       "\n",
       "          с         л         в  ...          й         ж         ш         х  \\\n",
       "  -4.189147 -5.960900 -4.224465  ... -10.545868 -6.411172 -6.941329 -6.806798   \n",
       "о -5.046773 -5.008997 -4.835830  ...  -5.640157 -6.453486 -6.662486 -7.532642   \n",
       "а -5.600032 -4.735608 -5.686968  ...  -7.190817 -6.740513 -6.944534 -6.947750   \n",
       "е -5.682868 -5.135273 -6.637380  ...  -6.088106 -6.987164 -7.247854 -6.885327   \n",
       "и -5.892468 -5.328059 -5.965111  ...  -6.568939 -7.869693 -7.954131 -6.402733   \n",
       "\n",
       "          ю         ц          э         щ          ф          ъ  \n",
       "  -9.690202 -8.137334  -6.022801 -9.528933  -7.180602 -13.379081  \n",
       "о -7.226348 -9.301544 -10.740024 -8.997054  -7.678637 -15.681666  \n",
       "а -7.170491 -9.353729 -13.379081 -8.361801  -7.595256 -15.681666  \n",
       "е -7.985453 -8.225789 -15.681666 -7.355633 -11.181856 -15.681666  \n",
       "и -8.158725 -6.567837 -13.379081 -9.174388 -10.981186 -15.681666  \n",
       "\n",
       "[5 rows x 33 columns]"
      ]
     },
     "execution_count": 23,
     "metadata": {},
     "output_type": "execute_result"
    }
   ],
   "source": [
    "ru_logits_df = np.log(ru_bigram_df.replace(0, 0.1)) - \\\n",
    "               np.log(ru_bigram_df.sum().sum()) \n",
    "ru_logits_df.head(5)"
   ]
  },
  {
   "cell_type": "markdown",
   "id": "03e6cb21-ee5b-41de-8fa6-dc1d6533c531",
   "metadata": {},
   "source": [
    "Упорядочим символы зашифрованной строки по частоте (начальное приближение) и найдем датафрейм с количеством биграмм."
   ]
  },
  {
   "cell_type": "code",
   "execution_count": 24,
   "id": "4e6bf6b3-c9b7-48ec-b709-6bdfcdd69217",
   "metadata": {},
   "outputs": [
    {
     "data": {
      "text/html": [
       "<div>\n",
       "<style scoped>\n",
       "    .dataframe tbody tr th:only-of-type {\n",
       "        vertical-align: middle;\n",
       "    }\n",
       "\n",
       "    .dataframe tbody tr th {\n",
       "        vertical-align: top;\n",
       "    }\n",
       "\n",
       "    .dataframe thead th {\n",
       "        text-align: right;\n",
       "    }\n",
       "</style>\n",
       "<table border=\"1\" class=\"dataframe\">\n",
       "  <thead>\n",
       "    <tr style=\"text-align: right;\">\n",
       "      <th></th>\n",
       "      <th>ю</th>\n",
       "      <th>з</th>\n",
       "      <th></th>\n",
       "      <th>в</th>\n",
       "      <th>с</th>\n",
       "      <th>ы</th>\n",
       "      <th>п</th>\n",
       "      <th>р</th>\n",
       "      <th>ч</th>\n",
       "      <th>л</th>\n",
       "      <th>...</th>\n",
       "      <th>э</th>\n",
       "      <th>и</th>\n",
       "      <th>ъ</th>\n",
       "      <th>й</th>\n",
       "      <th>н</th>\n",
       "      <th>ш</th>\n",
       "      <th>ф</th>\n",
       "      <th>б</th>\n",
       "      <th>е</th>\n",
       "      <th>о</th>\n",
       "    </tr>\n",
       "  </thead>\n",
       "  <tbody>\n",
       "    <tr>\n",
       "      <th>ю</th>\n",
       "      <td>2</td>\n",
       "      <td>4</td>\n",
       "      <td>0</td>\n",
       "      <td>4</td>\n",
       "      <td>8</td>\n",
       "      <td>2</td>\n",
       "      <td>1</td>\n",
       "      <td>7</td>\n",
       "      <td>3</td>\n",
       "      <td>4</td>\n",
       "      <td>...</td>\n",
       "      <td>1</td>\n",
       "      <td>3</td>\n",
       "      <td>1</td>\n",
       "      <td>1</td>\n",
       "      <td>1</td>\n",
       "      <td>1</td>\n",
       "      <td>1</td>\n",
       "      <td>0</td>\n",
       "      <td>0</td>\n",
       "      <td>0</td>\n",
       "    </tr>\n",
       "    <tr>\n",
       "      <th>з</th>\n",
       "      <td>6</td>\n",
       "      <td>0</td>\n",
       "      <td>2</td>\n",
       "      <td>0</td>\n",
       "      <td>1</td>\n",
       "      <td>6</td>\n",
       "      <td>0</td>\n",
       "      <td>5</td>\n",
       "      <td>4</td>\n",
       "      <td>5</td>\n",
       "      <td>...</td>\n",
       "      <td>2</td>\n",
       "      <td>0</td>\n",
       "      <td>0</td>\n",
       "      <td>0</td>\n",
       "      <td>0</td>\n",
       "      <td>0</td>\n",
       "      <td>0</td>\n",
       "      <td>0</td>\n",
       "      <td>0</td>\n",
       "      <td>0</td>\n",
       "    </tr>\n",
       "    <tr>\n",
       "      <th></th>\n",
       "      <td>8</td>\n",
       "      <td>0</td>\n",
       "      <td>0</td>\n",
       "      <td>0</td>\n",
       "      <td>2</td>\n",
       "      <td>4</td>\n",
       "      <td>0</td>\n",
       "      <td>2</td>\n",
       "      <td>1</td>\n",
       "      <td>4</td>\n",
       "      <td>...</td>\n",
       "      <td>0</td>\n",
       "      <td>1</td>\n",
       "      <td>0</td>\n",
       "      <td>0</td>\n",
       "      <td>0</td>\n",
       "      <td>0</td>\n",
       "      <td>0</td>\n",
       "      <td>0</td>\n",
       "      <td>0</td>\n",
       "      <td>0</td>\n",
       "    </tr>\n",
       "    <tr>\n",
       "      <th>в</th>\n",
       "      <td>7</td>\n",
       "      <td>0</td>\n",
       "      <td>1</td>\n",
       "      <td>0</td>\n",
       "      <td>0</td>\n",
       "      <td>3</td>\n",
       "      <td>0</td>\n",
       "      <td>2</td>\n",
       "      <td>2</td>\n",
       "      <td>0</td>\n",
       "      <td>...</td>\n",
       "      <td>0</td>\n",
       "      <td>0</td>\n",
       "      <td>1</td>\n",
       "      <td>0</td>\n",
       "      <td>0</td>\n",
       "      <td>0</td>\n",
       "      <td>0</td>\n",
       "      <td>0</td>\n",
       "      <td>0</td>\n",
       "      <td>0</td>\n",
       "    </tr>\n",
       "    <tr>\n",
       "      <th>с</th>\n",
       "      <td>1</td>\n",
       "      <td>6</td>\n",
       "      <td>5</td>\n",
       "      <td>5</td>\n",
       "      <td>1</td>\n",
       "      <td>0</td>\n",
       "      <td>2</td>\n",
       "      <td>1</td>\n",
       "      <td>0</td>\n",
       "      <td>0</td>\n",
       "      <td>...</td>\n",
       "      <td>1</td>\n",
       "      <td>0</td>\n",
       "      <td>0</td>\n",
       "      <td>0</td>\n",
       "      <td>1</td>\n",
       "      <td>0</td>\n",
       "      <td>0</td>\n",
       "      <td>0</td>\n",
       "      <td>0</td>\n",
       "      <td>0</td>\n",
       "    </tr>\n",
       "  </tbody>\n",
       "</table>\n",
       "<p>5 rows × 33 columns</p>\n",
       "</div>"
      ],
      "text/plain": [
       "   ю  з     в  с  ы  п  р  ч  л  ...  э  и  ъ  й  н  ш  ф  б  е  о\n",
       "ю  2  4  0  4  8  2  1  7  3  4  ...  1  3  1  1  1  1  1  0  0  0\n",
       "з  6  0  2  0  1  6  0  5  4  5  ...  2  0  0  0  0  0  0  0  0  0\n",
       "   8  0  0  0  2  4  0  2  1  4  ...  0  1  0  0  0  0  0  0  0  0\n",
       "в  7  0  1  0  0  3  0  2  2  0  ...  0  0  1  0  0  0  0  0  0  0\n",
       "с  1  6  5  5  1  0  2  1  0  0  ...  1  0  0  0  1  0  0  0  0  0\n",
       "\n",
       "[5 rows x 33 columns]"
      ]
     },
     "execution_count": 24,
     "metadata": {},
     "output_type": "execute_result"
    }
   ],
   "source": [
    "enc_labels = list(list(zip(*count_letters((enc_text), ru_letters)))[0])\n",
    "enc_bigram_df = bigram_to_df(enc_bigrams, enc_labels)\n",
    "enc_bigram_df.head()"
   ]
  },
  {
   "cell_type": "markdown",
   "id": "de0db247-ef7d-48c1-aee2-30378207647b",
   "metadata": {},
   "source": [
    "Семплировать будем перестановкой двух символов в текущем шифре. Запоминаем шифр с максимальным правдоподобием"
   ]
  },
  {
   "cell_type": "code",
   "execution_count": 25,
   "id": "1e08b8d6-3d43-4ea9-a3f0-aaf82951def9",
   "metadata": {},
   "outputs": [],
   "source": [
    "def bigram_log_likelihood(cipher, logits_df, enc_bigram_df):\n",
    "    df = logits_df.values * enc_bigram_df.loc[cipher, cipher].values\n",
    "    return df.sum().sum()\n",
    "\n",
    "def cipher_sample(cipher1):\n",
    "    cipher = cipher1.copy()\n",
    "    first_idx = random.randrange(len(cipher))\n",
    "#     second_idx = random.randrange(len(cipher))\n",
    "#     if first_idx == second_idx:\n",
    "#         return cipher_sample(cipher)\n",
    "    offset = 0\n",
    "    while offset == 0:\n",
    "        offset = round(np.random.normal(0, 5))\n",
    "    second_idx = first_idx + offset\n",
    "    if second_idx < 0 or second_idx >= len(cipher):\n",
    "        return cipher_sample(cipher)\n",
    "    cipher[first_idx], cipher[second_idx] = cipher[second_idx], cipher[first_idx]\n",
    "    return cipher\n",
    "    \n",
    "def metropolis_hastings_log_accept(l, l_new):\n",
    "    if l_new > l:\n",
    "        return True\n",
    "    else:\n",
    "        return (np.random.rand() < (np.exp(l_new - l)))\n",
    "\n",
    "def metropolis_hastings(func_log_likelihood, \n",
    "                        init_cipher,\n",
    "                        iter_n):\n",
    "    cur_cipher = init_cipher.copy()\n",
    "    cur_llh = func_log_likelihood(cur_cipher)\n",
    "    best_cipher, best_llh = cur_cipher.copy(), cur_llh\n",
    "    samples_llh, accept_bit = [cur_llh], [1]\n",
    "    for i in range(iter_n):\n",
    "        new_cipher = cipher_sample(cur_cipher)\n",
    "        new_llh = func_log_likelihood(new_cipher)\n",
    "        samples_llh.append(new_llh)\n",
    "        if new_llh > best_llh:\n",
    "            best_llh = new_llh\n",
    "            best_cipher = new_cipher.copy()\n",
    "        if (metropolis_hastings_log_accept(cur_llh, new_llh)):\n",
    "            cur_cipher, cur_llh = new_cipher, new_llh\n",
    "            accept_bit.append(1)\n",
    "        else:\n",
    "            accept_bit.append(0)\n",
    "\n",
    "    samples_llh = np.array(samples_llh)\n",
    "    accept_bit = np.array(accept_bit)\n",
    "       \n",
    "#     x = np.arange(len(samples_llh))\n",
    "#     mask = accept_bit > 0\n",
    "#     plt.clf()\n",
    "#     plt.plot(x, samples_llh, 'y.', x[mask], samples_llh[mask], 'b.')\n",
    "    \n",
    "    return best_llh, best_cipher, samples_llh, accept_bit"
   ]
  },
  {
   "cell_type": "code",
   "execution_count": 26,
   "id": "4e2f40e5-825a-4481-a9e5-b66fcc2c0cf9",
   "metadata": {},
   "outputs": [
    {
     "name": "stdout",
     "output_type": "stream",
     "text": [
      "log_likelihood = -2731.622513377; accept = 0.0285; correct 27 letters\n",
      "log_likelihood = -2731.622513377; accept = 0.0262; correct 28 letters\n",
      "log_likelihood = -2731.622513377; accept = 0.0230; correct 28 letters\n",
      "log_likelihood = -2731.622513377; accept = 0.0227; correct 28 letters\n",
      "log_likelihood = -2731.622513377; accept = 0.0251; correct 28 letters\n",
      "log_likelihood = -2769.116243582; accept = 0.0231; correct 25 letters\n",
      "log_likelihood = -2731.622513377; accept = 0.0225; correct 27 letters\n",
      "log_likelihood = -2731.622513377; accept = 0.0260; correct 28 letters\n",
      "log_likelihood = -2731.622513377; accept = 0.0267; correct 28 letters\n",
      "log_likelihood = -2731.622513377; accept = 0.0247; correct 27 letters\n"
     ]
    },
    {
     "data": {
      "text/plain": [
       "[<matplotlib.lines.Line2D at 0x7fb2659d76d0>,\n",
       " <matplotlib.lines.Line2D at 0x7fb2659e28e0>]"
      ]
     },
     "execution_count": 26,
     "metadata": {},
     "output_type": "execute_result"
    },
    {
     "data": {
      "image/png": "[encoded data removed]",
      "text/plain": [
       "<Figure size 432x288 with 1 Axes>"
      ]
     },
     "metadata": {
      "needs_background": "light"
     },
     "output_type": "display_data"
    }
   ],
   "source": [
    "ru_log_likelihood = partial(bigram_log_likelihood,\n",
    "                         logits_df = ru_logits_df,\n",
    "                         enc_bigram_df = enc_bigram_df)\n",
    "\n",
    "best_cipher = enc_labels\n",
    "best_llh = ru_log_likelihood(best_cipher)\n",
    "best_samples_llh, best_accept_bit = [], []\n",
    "for _ in range(10):\n",
    "    llh, cipher, samples_llh, accept_bit = \\\n",
    "        metropolis_hastings(ru_log_likelihood,\n",
    "                            init_cipher=enc_labels,#random_shift(ru_letters),\n",
    "                            iter_n=10000)\n",
    "   \n",
    "    if best_llh < llh:\n",
    "        best_llh = llh\n",
    "        best_cipher = cipher\n",
    "        best_samples_llh = samples_llh\n",
    "        best_accept_bit = accept_bit\n",
    "        \n",
    "    dec = {\n",
    "        cipher[i] : ru_labels[i]\n",
    "        for i in range(len(cipher))\n",
    "    }\n",
    "    equals_items = dec.items() & true_decoder.items()\n",
    "    print(f\"log_likelihood = {llh:.9f}; \"\n",
    "          f\"accept = {accept_bit.sum() / accept_bit.size:.4f}; \"\n",
    "          f\"correct {len(equals_items)} letters\")\n",
    "    \n",
    "x = np.arange(len(best_samples_llh))\n",
    "mask = best_accept_bit > 0\n",
    "plt.plot(x, best_samples_llh, 'y.', x[mask], best_samples_llh[mask], 'b.')    "
   ]
  },
  {
   "cell_type": "code",
   "execution_count": 27,
   "id": "31d21268-f181-4f37-8381-30e26f27b75f",
   "metadata": {},
   "outputs": [
    {
     "name": "stdout",
     "output_type": "stream",
     "text": [
      "correct decoding: 27 letters: \n",
      "('м', 'о', 'л', 'й', 'х', ' ', 'я', 'б', 'з', 'с', 'ю', 'д', 'ч', 'г', 'н', 'т', 'р', 'а', 'в', 'и', 'у', 'ш', 'к', 'ь', 'ы', 'п', 'е')\n",
      "в своем дневнике толстой сцормулировал себе большое количество физненных правил и желей но удавалось следовать лишь их незначительной части среди удавшихся  серьезные занятия английским языком музыкой юриспруденжией кроме того ни в дневнике ни в письмах не отразилось начало занятия толстым педагогикой и благотворительностью хотя в  году он впервые открыл школу для крестьянских детей основным преподавателем был цока демидович крепостной но и сам лев николаевич часто проводил занятия\n"
     ]
    }
   ],
   "source": [
    "ru_bigram_dec = {\n",
    "    best_cipher[i] : ru_labels[i]\n",
    "    for i in range(len(best_cipher))\n",
    "}\n",
    "decoder_estimate(ru_bigram_dec, enc_text, true_decoder)"
   ]
  },
  {
   "cell_type": "markdown",
   "id": "ce04f468-314b-4e70-84c7-7caf42731e94",
   "metadata": {},
   "source": [
    "Семплирование рулит! Почти все символы разгаданы, расшифрованный текст легко читается."
   ]
  },
  {
   "cell_type": "markdown",
   "id": "82a202b3-6e47-49fb-a644-2efc70e11927",
   "metadata": {},
   "source": [
    "   > 4. Расшифруйте сообщение:\n",
    "←⇠⇒↟↹↷⇊↹↷↟↤↟↨←↹↝⇛⇯↳⇴⇒⇈↝⇊↾↹↟⇒↟↹⇷⇛⇞↨↟↹↝⇛⇯↳⇴⇒⇈↝⇊↾↹↨←⇌⇠↨↹⇙↹⇸↨⇛↙⇛↹⇠⇛⇛↲⇆←↝↟↞↹⇌⇛↨⇛⇯⇊↾↹⇒←↙⇌⇛↹⇷⇯⇛⇞↟↨⇴↨⇈↹⇠⇌⇛⇯←←↹↷⇠←↙⇛↹↷⇊↹↷⇠←↹⇠↤←⇒⇴⇒↟↹⇷⇯⇴↷↟⇒⇈↝⇛↹↟↹⇷⇛⇒⇙⇞↟↨←↹↳⇴⇌⇠↟↳⇴⇒⇈↝⇊↾↹↲⇴⇒⇒↹⇰⇴↹⇷⇛⇠⇒←↤↝←←↹⇞←↨↷←⇯↨⇛←↹⇰⇴↤⇴↝↟←↹⇌⇙⇯⇠⇴↹↘⇛↨↞↹⇌⇛↝←⇞↝⇛↹↞↹↝↟⇞←↙⇛↹↝←↹⇛↲←⇆⇴⇏"
   ]
  },
  {
   "cell_type": "code",
   "execution_count": 28,
   "id": "b5c87985-89aa-48c9-b62d-32bcaa92934c",
   "metadata": {},
   "outputs": [
    {
     "data": {
      "text/plain": [
       "'←⇠⇒↟↹↷⇊↹↷↟↤↟↨←↹↝⇛⇯↳⇴⇒⇈↝⇊↾↹↟⇒↟↹⇷⇛⇞↨↟↹↝⇛⇯↳⇴⇒⇈↝⇊↾↹↨←⇌⇠↨↹⇙↹⇸↨⇛↙⇛↹⇠⇛⇛↲⇆←↝↟↞↹⇌⇛↨⇛⇯⇊↾↹⇒←↙⇌⇛↹⇷⇯⇛⇞↟↨⇴↨⇈↹⇠⇌⇛⇯←←↹↷⇠←↙⇛↹↷⇊↹↷⇠←↹⇠↤←⇒⇴⇒↟↹⇷⇯⇴↷↟⇒⇈↝⇛↹↟↹⇷⇛⇒⇙⇞↟↨←↹↳⇴⇌⇠↟↳⇴⇒⇈↝⇊↾↹↲⇴⇒⇒↹⇰⇴↹⇷⇛⇠⇒←↤↝←←↹⇞←↨↷←⇯↨⇛←↹⇰⇴↤⇴↝↟←↹⇌⇙⇯⇠⇴↹↘⇛↨↞↹⇌⇛↝←⇞↝⇛↹↞↹↝↟⇞←↙⇛↹↝←↹⇛↲←⇆⇴⇏'"
      ]
     },
     "execution_count": 28,
     "metadata": {},
     "output_type": "execute_result"
    }
   ],
   "source": [
    "enc_message = \"←⇠⇒↟↹↷⇊↹↷↟↤↟↨←↹↝⇛⇯↳⇴⇒⇈↝⇊↾↹↟⇒↟↹⇷⇛⇞↨↟↹↝⇛⇯↳⇴⇒⇈↝⇊↾↹↨←⇌⇠↨↹⇙↹⇸↨⇛↙⇛↹⇠⇛⇛↲⇆←↝↟↞↹⇌⇛↨⇛⇯⇊↾↹⇒←↙⇌⇛↹⇷⇯⇛⇞↟↨⇴↨⇈↹⇠⇌⇛⇯←←↹↷⇠←↙⇛↹↷⇊↹↷⇠←↹⇠↤←⇒⇴⇒↟↹⇷⇯⇴↷↟⇒⇈↝⇛↹↟↹⇷⇛⇒⇙⇞↟↨←↹↳⇴⇌⇠↟↳⇴⇒⇈↝⇊↾↹↲⇴⇒⇒↹⇰⇴↹⇷⇛⇠⇒←↤↝←←↹⇞←↨↷←⇯↨⇛←↹⇰⇴↤⇴↝↟←↹⇌⇙⇯⇠⇴↹↘⇛↨↞↹⇌⇛↝←⇞↝⇛↹↞↹↝↟⇞←↙⇛↹↝←↹⇛↲←⇆⇴⇏\"\n",
    "enc_message"
   ]
  },
  {
   "cell_type": "code",
   "execution_count": 29,
   "id": "8bab65c4-2cd4-40d0-9827-7075f30bc1ad",
   "metadata": {},
   "outputs": [
    {
     "name": "stdout",
     "output_type": "stream",
     "text": [
      "['↹', '⇈', '↷', '⇛', '←', '↝', '↤', '⇒', '↘', '⇯', '⇆', '⇏', '⇷', '⇴', '↙', '↾', '↞', '⇰', '⇠', '⇞', '↳', '↟', '⇙', '⇸', '⇊', '↲', '⇌', '↨']\n",
      "28\n"
     ]
    }
   ],
   "source": [
    "enc_letters = list(set(enc_message))\n",
    "print(enc_letters)\n",
    "print(len(enc_letters))"
   ]
  },
  {
   "cell_type": "code",
   "execution_count": 30,
   "id": "5cec9e27-0ac7-4c04-aa62-6e22d264778e",
   "metadata": {},
   "outputs": [],
   "source": [
    "message_bigram = count_bigrams((enc_message,), enc_letters)"
   ]
  },
  {
   "cell_type": "markdown",
   "id": "c42539aa-2d64-4566-ad74-284f8811cb69",
   "metadata": {},
   "source": [
    "Считаем, что сообщение на русском языке, так что дополняем недостающие символы до полного комплекта и строим датафрейм биграмм (опять упорядочиваем символы по частоте, чтобы лучше считалось)."
   ]
  },
  {
   "cell_type": "code",
   "execution_count": 31,
   "id": "641001df-3cd0-4e71-924a-6587b69459e0",
   "metadata": {},
   "outputs": [
    {
     "data": {
      "text/html": [
       "<div>\n",
       "<style scoped>\n",
       "    .dataframe tbody tr th:only-of-type {\n",
       "        vertical-align: middle;\n",
       "    }\n",
       "\n",
       "    .dataframe tbody tr th {\n",
       "        vertical-align: top;\n",
       "    }\n",
       "\n",
       "    .dataframe thead th {\n",
       "        text-align: right;\n",
       "    }\n",
       "</style>\n",
       "<table border=\"1\" class=\"dataframe\">\n",
       "  <thead>\n",
       "    <tr style=\"text-align: right;\">\n",
       "      <th></th>\n",
       "      <th>↹</th>\n",
       "      <th>⇈</th>\n",
       "      <th>↷</th>\n",
       "      <th>⇛</th>\n",
       "      <th>←</th>\n",
       "      <th>↝</th>\n",
       "      <th>↤</th>\n",
       "      <th>⇒</th>\n",
       "      <th>↘</th>\n",
       "      <th>⇯</th>\n",
       "      <th>...</th>\n",
       "      <th>⇸</th>\n",
       "      <th>⇊</th>\n",
       "      <th>↲</th>\n",
       "      <th>⇌</th>\n",
       "      <th>↨</th>\n",
       "      <th>1</th>\n",
       "      <th>2</th>\n",
       "      <th>3</th>\n",
       "      <th>4</th>\n",
       "      <th>5</th>\n",
       "    </tr>\n",
       "  </thead>\n",
       "  <tbody>\n",
       "    <tr>\n",
       "      <th>↹</th>\n",
       "      <td>0</td>\n",
       "      <td>0</td>\n",
       "      <td>5</td>\n",
       "      <td>1</td>\n",
       "      <td>0</td>\n",
       "      <td>4</td>\n",
       "      <td>0</td>\n",
       "      <td>1</td>\n",
       "      <td>1</td>\n",
       "      <td>0</td>\n",
       "      <td>...</td>\n",
       "      <td>1</td>\n",
       "      <td>0</td>\n",
       "      <td>1</td>\n",
       "      <td>3</td>\n",
       "      <td>1</td>\n",
       "      <td>0</td>\n",
       "      <td>0</td>\n",
       "      <td>0</td>\n",
       "      <td>0</td>\n",
       "      <td>0</td>\n",
       "    </tr>\n",
       "    <tr>\n",
       "      <th>⇈</th>\n",
       "      <td>1</td>\n",
       "      <td>0</td>\n",
       "      <td>0</td>\n",
       "      <td>0</td>\n",
       "      <td>0</td>\n",
       "      <td>4</td>\n",
       "      <td>0</td>\n",
       "      <td>0</td>\n",
       "      <td>0</td>\n",
       "      <td>0</td>\n",
       "      <td>...</td>\n",
       "      <td>0</td>\n",
       "      <td>0</td>\n",
       "      <td>0</td>\n",
       "      <td>0</td>\n",
       "      <td>0</td>\n",
       "      <td>0</td>\n",
       "      <td>0</td>\n",
       "      <td>0</td>\n",
       "      <td>0</td>\n",
       "      <td>0</td>\n",
       "    </tr>\n",
       "    <tr>\n",
       "      <th>↷</th>\n",
       "      <td>0</td>\n",
       "      <td>0</td>\n",
       "      <td>0</td>\n",
       "      <td>0</td>\n",
       "      <td>1</td>\n",
       "      <td>0</td>\n",
       "      <td>0</td>\n",
       "      <td>0</td>\n",
       "      <td>0</td>\n",
       "      <td>0</td>\n",
       "      <td>...</td>\n",
       "      <td>0</td>\n",
       "      <td>2</td>\n",
       "      <td>0</td>\n",
       "      <td>0</td>\n",
       "      <td>0</td>\n",
       "      <td>0</td>\n",
       "      <td>0</td>\n",
       "      <td>0</td>\n",
       "      <td>0</td>\n",
       "      <td>0</td>\n",
       "    </tr>\n",
       "    <tr>\n",
       "      <th>⇛</th>\n",
       "      <td>6</td>\n",
       "      <td>0</td>\n",
       "      <td>0</td>\n",
       "      <td>1</td>\n",
       "      <td>1</td>\n",
       "      <td>1</td>\n",
       "      <td>0</td>\n",
       "      <td>1</td>\n",
       "      <td>0</td>\n",
       "      <td>4</td>\n",
       "      <td>...</td>\n",
       "      <td>0</td>\n",
       "      <td>0</td>\n",
       "      <td>2</td>\n",
       "      <td>0</td>\n",
       "      <td>2</td>\n",
       "      <td>0</td>\n",
       "      <td>0</td>\n",
       "      <td>0</td>\n",
       "      <td>0</td>\n",
       "      <td>0</td>\n",
       "    </tr>\n",
       "    <tr>\n",
       "      <th>←</th>\n",
       "      <td>8</td>\n",
       "      <td>0</td>\n",
       "      <td>0</td>\n",
       "      <td>0</td>\n",
       "      <td>2</td>\n",
       "      <td>1</td>\n",
       "      <td>1</td>\n",
       "      <td>1</td>\n",
       "      <td>0</td>\n",
       "      <td>1</td>\n",
       "      <td>...</td>\n",
       "      <td>0</td>\n",
       "      <td>0</td>\n",
       "      <td>0</td>\n",
       "      <td>1</td>\n",
       "      <td>1</td>\n",
       "      <td>0</td>\n",
       "      <td>0</td>\n",
       "      <td>0</td>\n",
       "      <td>0</td>\n",
       "      <td>0</td>\n",
       "    </tr>\n",
       "  </tbody>\n",
       "</table>\n",
       "<p>5 rows × 33 columns</p>\n",
       "</div>"
      ],
      "text/plain": [
       "   ↹  ⇈  ↷  ⇛  ←  ↝  ↤  ⇒  ↘  ⇯  ...  ⇸  ⇊  ↲  ⇌  ↨  1  2  3  4  5\n",
       "↹  0  0  5  1  0  4  0  1  1  0  ...  1  0  1  3  1  0  0  0  0  0\n",
       "⇈  1  0  0  0  0  4  0  0  0  0  ...  0  0  0  0  0  0  0  0  0  0\n",
       "↷  0  0  0  0  1  0  0  0  0  0  ...  0  2  0  0  0  0  0  0  0  0\n",
       "⇛  6  0  0  1  1  1  0  1  0  4  ...  0  0  2  0  2  0  0  0  0  0\n",
       "←  8  0  0  0  2  1  1  1  0  1  ...  0  0  0  1  1  0  0  0  0  0\n",
       "\n",
       "[5 rows x 33 columns]"
      ]
     },
     "execution_count": 31,
     "metadata": {},
     "output_type": "execute_result"
    }
   ],
   "source": [
    "enc_labels = list(list(zip(*count_letters((enc_message), enc_letters)))[0])\n",
    "enc_labels = enc_letters + ['1', '2', '3', '4', '5']\n",
    "\n",
    "message_df = bigram_to_df(message_bigram, enc_labels)\n",
    "message_df.head()"
   ]
  },
  {
   "cell_type": "code",
   "execution_count": 32,
   "id": "5fe3fdfd-9b11-467c-a329-a6e488a23d63",
   "metadata": {},
   "outputs": [
    {
     "name": "stdout",
     "output_type": "stream",
     "text": [
      "log_likelihood = -1257.218078704; accept = 0.0664; \n",
      "log_likelihood = -1277.031003624; accept = 0.0673; \n",
      "log_likelihood = -1291.932101919; accept = 0.0780; \n",
      "log_likelihood = -1256.524899965; accept = 0.0732; \n",
      "log_likelihood = -1280.881251144; accept = 0.0746; \n",
      "log_likelihood = -1396.830760137; accept = 0.0673; \n",
      "log_likelihood = -1277.145865806; accept = 0.0713; \n",
      "log_likelihood = -1390.304582139; accept = 0.0667; \n",
      "log_likelihood = -1255.920937987; accept = 0.0734; \n",
      "log_likelihood = -1385.697127346; accept = 0.0634; \n",
      "\n",
      "если вы вимите норжальный или подти норжальный текст у этого соочшения который легко продитать скорее всего вы все смелали правильно и полудите жаксижальный чалл за послемнее детвертое замание курса ботя конедно я нидего не очешах\n"
     ]
    },
    {
     "data": {
      "image/png": "[encoded data removed]",
      "text/plain": [
       "<Figure size 432x288 with 1 Axes>"
      ]
     },
     "metadata": {
      "needs_background": "light"
     },
     "output_type": "display_data"
    }
   ],
   "source": [
    "log_likelihood = partial(bigram_log_likelihood,\n",
    "                         logits_df = ru_logits_df,\n",
    "                         enc_bigram_df = message_df)\n",
    "best_cipher = enc_labels\n",
    "best_llh = log_likelihood(best_cipher)\n",
    "best_samples_llh, best_accept_bit = [], []\n",
    "for _ in range(10):\n",
    "    llh, cipher, samples_llh, accept_bit = \\\n",
    "        metropolis_hastings(log_likelihood,\n",
    "                            init_cipher=enc_labels,\n",
    "                            iter_n=10000)\n",
    "    if best_llh < llh:\n",
    "        best_llh = llh\n",
    "        best_cipher = cipher\n",
    "        best_samples_llh = samples_llh\n",
    "        best_accept_bit = accept_bit\n",
    "        \n",
    "    dec = {\n",
    "        cipher[i] : ru_labels[i]\n",
    "        for i in range(len(cipher))\n",
    "    }\n",
    "\n",
    "    print(f\"log_likelihood = {llh:.9f}; \"\n",
    "          f\"accept = {accept_bit.sum() / accept_bit.size:.4f}; \")\n",
    "    \n",
    "x = np.arange(len(best_samples_llh))\n",
    "mask = best_accept_bit > 0\n",
    "plt.plot(x, best_samples_llh, 'y.', x[mask], best_samples_llh[mask], 'b.')    \n",
    "        \n",
    "message_dec = {\n",
    "    best_cipher[i] : ru_labels[i]\n",
    "    for i in range(len(best_cipher))\n",
    "}\n",
    "print('')\n",
    "decoder_estimate(message_dec, enc_message)"
   ]
  },
  {
   "cell_type": "markdown",
   "id": "6f6b0f0c-4296-4a0d-9626-43f3783995f5",
   "metadata": {},
   "source": [
    "Получилась не идеальная, но вполне читаемая расшифровка. Как такое можно получить без MCMC-сэмплирования даже не представляю!"
   ]
  },
  {
   "cell_type": "markdown",
   "id": "e821dc23-b2fc-4dd7-929a-102669fa5a06",
   "metadata": {},
   "source": [
    "> Бонус: а что если от биграмм перейти к триграммам (тройкам букв) или даже больше? Улучшатся ли результаты? Когда улучшатся, а когда нет? Чтобы ответить на этот вопрос эмпирически, уже может понадобиться погенерировать много тестовых перестановок и последить за метриками, глазами может быть и не видно.\n",
    "\n",
    "Тут с биграммами то не знаешь, что делать, а уж про триграммы и думать страшно;) Разве что как-то ограничить набор триграмм самыми частыми."
   ]
  },
  {
   "cell_type": "markdown",
   "id": "298f90aa-5a7c-42a1-a7ad-a03079f23820",
   "metadata": {},
   "source": [
    "> Бонус: какие вы можете придумать применения для этой модели? Пляшущие человечки ведь не так часто встречаются в жизни (хотя встречаются! и это самое потрясающее во всей этой истории, но об этом я расскажу потом).\n",
    "\n",
    "Да тут применений дофига, в любой задаче планирования, комбинаторной оптимизации, и везде где непонятно как подступиться, кроме как перебором или придумыванием каких-то эвристик. Для меня это просто открытие! Оказывается достаточно посемплировать - и уже получишь более чем приемлемое решение."
   ]
  }
 ],
 "metadata": {
  "kernelspec": {
   "display_name": "Python 3",
   "language": "python",
   "name": "python3"
  },
  "language_info": {
   "codemirror_mode": {
    "name": "ipython",
    "version": 3
   },
   "file_extension": ".py",
   "mimetype": "text/x-python",
   "name": "python",
   "nbconvert_exporter": "python",
   "pygments_lexer": "ipython3",
   "version": "3.8.5"
  }
 },
 "nbformat": 4,
 "nbformat_minor": 5
}
